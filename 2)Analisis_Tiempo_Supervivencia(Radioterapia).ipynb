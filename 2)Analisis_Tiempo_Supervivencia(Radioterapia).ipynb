{
  "nbformat": 4,
  "nbformat_minor": 0,
  "metadata": {
    "colab": {
      "name": "2)Analisis Tiempo Supervivencia(Radioterapia).ipynb",
      "provenance": [],
      "collapsed_sections": [],
      "authorship_tag": "ABX9TyNCD9prVe5kX2I9aZJXUFxs",
      "include_colab_link": true
    },
    "kernelspec": {
      "name": "python3",
      "display_name": "Python 3"
    },
    "language_info": {
      "name": "python"
    }
  },
  "cells": [
    {
      "cell_type": "markdown",
      "metadata": {
        "id": "view-in-github",
        "colab_type": "text"
      },
      "source": [
        "<a href=\"https://colab.research.google.com/github/katherine2022Udea/TesisEspecializacion/blob/main/2)Analisis_Tiempo_Supervivencia(Radioterapia).ipynb\" target=\"_parent\"><img src=\"https://colab.research.google.com/assets/colab-badge.svg\" alt=\"Open In Colab\"/></a>"
      ]
    },
    {
      "cell_type": "code",
      "source": [
        "!wget --no-cache -O init.py -q https://raw.githubusercontent.com/UDEA-Esp-Analitica-y-Ciencia-de-Datos/EACD-02-ESTADISTICA/master/init.py\n",
        "import init; init.init(force_download=False); \n",
        "from IPython.display import Image"
      ],
      "metadata": {
        "colab": {
          "base_uri": "https://localhost:8080/"
        },
        "id": "p1natWPh2UYk",
        "outputId": "d5ae87cb-344c-40be-a144-a7f42c84efa1"
      },
      "execution_count": 1,
      "outputs": [
        {
          "output_type": "stream",
          "name": "stdout",
          "text": [
            "replicating local resources\n"
          ]
        }
      ]
    },
    {
      "cell_type": "code",
      "source": [
        "Image(\"local/imgs/udea-datascience.png\")"
      ],
      "metadata": {
        "colab": {
          "base_uri": "https://localhost:8080/",
          "height": 251
        },
        "id": "ijxBOS652aUU",
        "outputId": "dbf4561e-d32d-47ca-b020-c92016873da0"
      },
      "execution_count": 2,
      "outputs": [
        {
          "output_type": "execute_result",
          "data": {
            "text/plain": [
              "<IPython.core.display.Image object>"
            ],
            "image/png": "[encoded data removed]"
          },
          "metadata": {},
          "execution_count": 2
        }
      ]
    },
    {
      "cell_type": "code",
      "source": [
        "import numpy as np # Matemetias y Matrices\n",
        "import pandas as pd # para BD\n",
        "import matplotlib.pyplot as plt # Graficas\n",
        "import seaborn as sns # Graficas estadisticas\n",
        "from scipy.stats import shapiro # Pruebas Estadisticas\n",
        "from scipy.stats import chi2_contingency # Pruebas de Independencia para Tablas de contingencia\n",
        "from scipy import stats\n",
        "### Modelación de Machine Learning\n",
        "from sklearn.model_selection import train_test_split # Para dividir nuesntra BD en entrenamiento y Test\n",
        "import statsmodels.api as sm\n",
        "from scipy.stats import normaltest"
      ],
      "metadata": {
        "id": "6L3ilTgiE8eD",
        "colab": {
          "base_uri": "https://localhost:8080/"
        },
        "outputId": "1a3cd6fe-3647-4ada-e635-fa161202db48"
      },
      "execution_count": 3,
      "outputs": [
        {
          "output_type": "stream",
          "name": "stderr",
          "text": [
            "/usr/local/lib/python3.7/dist-packages/statsmodels/tools/_testing.py:19: FutureWarning: pandas.util.testing is deprecated. Use the functions in the public API at pandas.testing instead.\n",
            "  import pandas.util.testing as tm\n"
          ]
        }
      ]
    },
    {
      "cell_type": "code",
      "source": [
        "!pip install lifelines\n",
        "from lifelines import KaplanMeierFitter"
      ],
      "metadata": {
        "id": "w6YIbkZdFF57",
        "colab": {
          "base_uri": "https://localhost:8080/",
          "height": 856
        },
        "outputId": "30b15aec-185a-4e20-9c49-ae8a740a01c5"
      },
      "execution_count": 4,
      "outputs": [
        {
          "output_type": "stream",
          "name": "stdout",
          "text": [
            "Looking in indexes: https://pypi.org/simple, https://us-python.pkg.dev/colab-wheels/public/simple/\n",
            "Collecting lifelines\n",
            "  Downloading lifelines-0.27.0-py3-none-any.whl (349 kB)\n",
            "\u001b[K     |████████████████████████████████| 349 kB 5.2 MB/s \n",
            "\u001b[?25hRequirement already satisfied: autograd>=1.3 in /usr/local/lib/python3.7/dist-packages (from lifelines) (1.4)\n",
            "Requirement already satisfied: scipy>=1.2.0 in /usr/local/lib/python3.7/dist-packages (from lifelines) (1.4.1)\n",
            "Requirement already satisfied: numpy>=1.14.0 in /usr/local/lib/python3.7/dist-packages (from lifelines) (1.21.6)\n",
            "Requirement already satisfied: pandas>=1.0.0 in /usr/local/lib/python3.7/dist-packages (from lifelines) (1.3.5)\n",
            "Collecting autograd-gamma>=0.3\n",
            "  Downloading autograd-gamma-0.5.0.tar.gz (4.0 kB)\n",
            "Collecting formulaic>=0.2.2\n",
            "  Downloading formulaic-0.3.4-py3-none-any.whl (68 kB)\n",
            "\u001b[K     |████████████████████████████████| 68 kB 4.0 MB/s \n",
            "\u001b[?25hRequirement already satisfied: matplotlib>=3.0 in /usr/local/lib/python3.7/dist-packages (from lifelines) (3.2.2)\n",
            "Requirement already satisfied: future>=0.15.2 in /usr/local/lib/python3.7/dist-packages (from autograd>=1.3->lifelines) (0.16.0)\n",
            "Requirement already satisfied: astor>=0.8 in /usr/local/lib/python3.7/dist-packages (from formulaic>=0.2.2->lifelines) (0.8.1)\n",
            "Collecting interface-meta<2.0.0,>=1.2.0\n",
            "  Downloading interface_meta-1.3.0-py3-none-any.whl (14 kB)\n",
            "Collecting scipy>=1.2.0\n",
            "  Downloading scipy-1.7.3-cp37-cp37m-manylinux_2_12_x86_64.manylinux2010_x86_64.whl (38.1 MB)\n",
            "\u001b[K     |████████████████████████████████| 38.1 MB 197 kB/s \n",
            "\u001b[?25hRequirement already satisfied: wrapt>=1.0 in /usr/local/lib/python3.7/dist-packages (from formulaic>=0.2.2->lifelines) (1.14.1)\n",
            "Requirement already satisfied: pyparsing!=2.0.4,!=2.1.2,!=2.1.6,>=2.0.1 in /usr/local/lib/python3.7/dist-packages (from matplotlib>=3.0->lifelines) (3.0.9)\n",
            "Requirement already satisfied: python-dateutil>=2.1 in /usr/local/lib/python3.7/dist-packages (from matplotlib>=3.0->lifelines) (2.8.2)\n",
            "Requirement already satisfied: kiwisolver>=1.0.1 in /usr/local/lib/python3.7/dist-packages (from matplotlib>=3.0->lifelines) (1.4.2)\n",
            "Requirement already satisfied: cycler>=0.10 in /usr/local/lib/python3.7/dist-packages (from matplotlib>=3.0->lifelines) (0.11.0)\n",
            "Requirement already satisfied: typing-extensions in /usr/local/lib/python3.7/dist-packages (from kiwisolver>=1.0.1->matplotlib>=3.0->lifelines) (4.2.0)\n",
            "Requirement already satisfied: pytz>=2017.3 in /usr/local/lib/python3.7/dist-packages (from pandas>=1.0.0->lifelines) (2022.1)\n",
            "Requirement already satisfied: six>=1.5 in /usr/local/lib/python3.7/dist-packages (from python-dateutil>=2.1->matplotlib>=3.0->lifelines) (1.15.0)\n",
            "Building wheels for collected packages: autograd-gamma\n",
            "  Building wheel for autograd-gamma (setup.py) ... \u001b[?25l\u001b[?25hdone\n",
            "  Created wheel for autograd-gamma: filename=autograd_gamma-0.5.0-py3-none-any.whl size=4048 sha256=dc376ffc9049d04da0a516cd0b7659b224e6d2a280263a30a718a0cc42da6986\n",
            "  Stored in directory: /root/.cache/pip/wheels/9f/01/ee/1331593abb5725ff7d8c1333aee93a50a1c29d6ddda9665c9f\n",
            "Successfully built autograd-gamma\n",
            "Installing collected packages: scipy, interface-meta, formulaic, autograd-gamma, lifelines\n",
            "  Attempting uninstall: scipy\n",
            "    Found existing installation: scipy 1.4.1\n",
            "    Uninstalling scipy-1.4.1:\n",
            "      Successfully uninstalled scipy-1.4.1\n",
            "\u001b[31mERROR: pip's dependency resolver does not currently take into account all the packages that are installed. This behaviour is the source of the following dependency conflicts.\n",
            "albumentations 0.1.12 requires imgaug<0.2.7,>=0.2.5, but you have imgaug 0.2.9 which is incompatible.\u001b[0m\n",
            "Successfully installed autograd-gamma-0.5.0 formulaic-0.3.4 interface-meta-1.3.0 lifelines-0.27.0 scipy-1.7.3\n"
          ]
        },
        {
          "output_type": "display_data",
          "data": {
            "application/vnd.colab-display-data+json": {
              "pip_warning": {
                "packages": [
                  "scipy"
                ]
              }
            }
          },
          "metadata": {}
        }
      ]
    },
    {
      "cell_type": "code",
      "source": [
        "url='https://raw.githubusercontent.com/katherine2022Udea/TesisEspecializacion/main/METABRIC_RNA_Mutation.csv'\n",
        "df=pd.read_csv(url)"
      ],
      "metadata": {
        "colab": {
          "base_uri": "https://localhost:8080/"
        },
        "id": "B057aazxFJQi",
        "outputId": "3beb07bd-0ce7-46a3-ad04-cfa06f184ba4"
      },
      "execution_count": 5,
      "outputs": [
        {
          "output_type": "stream",
          "name": "stderr",
          "text": [
            "/usr/local/lib/python3.7/dist-packages/IPython/core/interactiveshell.py:2882: DtypeWarning: Columns (678,688,690,692) have mixed types.Specify dtype option on import or set low_memory=False.\n",
            "  exec(code_obj, self.user_global_ns, self.user_ns)\n"
          ]
        }
      ]
    },
    {
      "cell_type": "code",
      "source": [
        "pd.set_option('display.max_rows', 500)\n",
        "pd.set_option('display.max_columns', 500)"
      ],
      "metadata": {
        "id": "jpdRj7YsFfic"
      },
      "execution_count": 6,
      "outputs": []
    },
    {
      "cell_type": "code",
      "source": [
        "df=df.iloc[:,0:31]"
      ],
      "metadata": {
        "id": "ooH8kUUFFksE"
      },
      "execution_count": 7,
      "outputs": []
    },
    {
      "cell_type": "code",
      "source": [
        "df.head(5)"
      ],
      "metadata": {
        "colab": {
          "base_uri": "https://localhost:8080/",
          "height": 374
        },
        "id": "PJi0t7cJFX7j",
        "outputId": "e354fe0c-1d95-4d7f-d751-6c8f53aecc7f"
      },
      "execution_count": 8,
      "outputs": [
        {
          "output_type": "execute_result",
          "data": {
            "text/plain": [
              "   patient_id  age_at_diagnosis type_of_breast_surgery    cancer_type  \\\n",
              "0           0             75.65             MASTECTOMY  Breast Cancer   \n",
              "1           2             43.19      BREAST CONSERVING  Breast Cancer   \n",
              "2           5             48.87             MASTECTOMY  Breast Cancer   \n",
              "3           6             47.68             MASTECTOMY  Breast Cancer   \n",
              "4           8             76.97             MASTECTOMY  Breast Cancer   \n",
              "\n",
              "                        cancer_type_detailed cellularity  chemotherapy  \\\n",
              "0           Breast Invasive Ductal Carcinoma         NaN             0   \n",
              "1           Breast Invasive Ductal Carcinoma        High             0   \n",
              "2           Breast Invasive Ductal Carcinoma        High             1   \n",
              "3  Breast Mixed Ductal and Lobular Carcinoma    Moderate             1   \n",
              "4  Breast Mixed Ductal and Lobular Carcinoma        High             1   \n",
              "\n",
              "  pam50_+_claudin-low_subtype  cohort er_status_measured_by_ihc er_status  \\\n",
              "0                 claudin-low     1.0                   Positve  Positive   \n",
              "1                        LumA     1.0                   Positve  Positive   \n",
              "2                        LumB     1.0                   Positve  Positive   \n",
              "3                        LumB     1.0                   Positve  Positive   \n",
              "4                        LumB     1.0                   Positve  Positive   \n",
              "\n",
              "   neoplasm_histologic_grade her2_status_measured_by_snp6 her2_status  \\\n",
              "0                        3.0                      NEUTRAL    Negative   \n",
              "1                        3.0                      NEUTRAL    Negative   \n",
              "2                        2.0                      NEUTRAL    Negative   \n",
              "3                        2.0                      NEUTRAL    Negative   \n",
              "4                        3.0                      NEUTRAL    Negative   \n",
              "\n",
              "  tumor_other_histologic_subtype  hormone_therapy inferred_menopausal_state  \\\n",
              "0                     Ductal/NST                1                      Post   \n",
              "1                     Ductal/NST                1                       Pre   \n",
              "2                     Ductal/NST                1                       Pre   \n",
              "3                          Mixed                1                       Pre   \n",
              "4                          Mixed                1                      Post   \n",
              "\n",
              "  integrative_cluster primary_tumor_laterality  lymph_nodes_examined_positive  \\\n",
              "0                4ER+                    Right                           10.0   \n",
              "1                4ER+                    Right                            0.0   \n",
              "2                   3                    Right                            1.0   \n",
              "3                   9                    Right                            3.0   \n",
              "4                   9                    Right                            8.0   \n",
              "\n",
              "   mutation_count  nottingham_prognostic_index oncotree_code  \\\n",
              "0             NaN                        6.044           IDC   \n",
              "1             2.0                        4.020           IDC   \n",
              "2             2.0                        4.030           IDC   \n",
              "3             1.0                        4.050          MDLC   \n",
              "4             2.0                        6.080          MDLC   \n",
              "\n",
              "   overall_survival_months  overall_survival pr_status  radio_therapy  \\\n",
              "0               140.500000                 1  Negative              1   \n",
              "1                84.633333                 1  Positive              1   \n",
              "2               163.700000                 0  Positive              0   \n",
              "3               164.933333                 1  Positive              1   \n",
              "4                41.366667                 0  Positive              1   \n",
              "\n",
              "  3-gene_classifier_subtype  tumor_size  tumor_stage death_from_cancer  \n",
              "0                 ER-/HER2-        22.0          2.0            Living  \n",
              "1     ER+/HER2- High Prolif        10.0          1.0            Living  \n",
              "2                       NaN        15.0          2.0   Died of Disease  \n",
              "3                       NaN        25.0          2.0            Living  \n",
              "4     ER+/HER2- High Prolif        40.0          2.0   Died of Disease  "
            ],
            "text/html": [
              "\n",
              "  <div id=\"df-f9b8cd3f-73c3-4db9-b2f9-734c5b6e7ad2\">\n",
              "    <div class=\"colab-df-container\">\n",
              "      <div>\n",
              "<style scoped>\n",
              "    .dataframe tbody tr th:only-of-type {\n",
              "        vertical-align: middle;\n",
              "    }\n",
              "\n",
              "    .dataframe tbody tr th {\n",
              "        vertical-align: top;\n",
              "    }\n",
              "\n",
              "    .dataframe thead th {\n",
              "        text-align: right;\n",
              "    }\n",
              "</style>\n",
              "<table border=\"1\" class=\"dataframe\">\n",
              "  <thead>\n",
              "    <tr style=\"text-align: right;\">\n",
              "      <th></th>\n",
              "      <th>patient_id</th>\n",
              "      <th>age_at_diagnosis</th>\n",
              "      <th>type_of_breast_surgery</th>\n",
              "      <th>cancer_type</th>\n",
              "      <th>cancer_type_detailed</th>\n",
              "      <th>cellularity</th>\n",
              "      <th>chemotherapy</th>\n",
              "      <th>pam50_+_claudin-low_subtype</th>\n",
              "      <th>cohort</th>\n",
              "      <th>er_status_measured_by_ihc</th>\n",
              "      <th>er_status</th>\n",
              "      <th>neoplasm_histologic_grade</th>\n",
              "      <th>her2_status_measured_by_snp6</th>\n",
              "      <th>her2_status</th>\n",
              "      <th>tumor_other_histologic_subtype</th>\n",
              "      <th>hormone_therapy</th>\n",
              "      <th>inferred_menopausal_state</th>\n",
              "      <th>integrative_cluster</th>\n",
              "      <th>primary_tumor_laterality</th>\n",
              "      <th>lymph_nodes_examined_positive</th>\n",
              "      <th>mutation_count</th>\n",
              "      <th>nottingham_prognostic_index</th>\n",
              "      <th>oncotree_code</th>\n",
              "      <th>overall_survival_months</th>\n",
              "      <th>overall_survival</th>\n",
              "      <th>pr_status</th>\n",
              "      <th>radio_therapy</th>\n",
              "      <th>3-gene_classifier_subtype</th>\n",
              "      <th>tumor_size</th>\n",
              "      <th>tumor_stage</th>\n",
              "      <th>death_from_cancer</th>\n",
              "    </tr>\n",
              "  </thead>\n",
              "  <tbody>\n",
              "    <tr>\n",
              "      <th>0</th>\n",
              "      <td>0</td>\n",
              "      <td>75.65</td>\n",
              "      <td>MASTECTOMY</td>\n",
              "      <td>Breast Cancer</td>\n",
              "      <td>Breast Invasive Ductal Carcinoma</td>\n",
              "      <td>NaN</td>\n",
              "      <td>0</td>\n",
              "      <td>claudin-low</td>\n",
              "      <td>1.0</td>\n",
              "      <td>Positve</td>\n",
              "      <td>Positive</td>\n",
              "      <td>3.0</td>\n",
              "      <td>NEUTRAL</td>\n",
              "      <td>Negative</td>\n",
              "      <td>Ductal/NST</td>\n",
              "      <td>1</td>\n",
              "      <td>Post</td>\n",
              "      <td>4ER+</td>\n",
              "      <td>Right</td>\n",
              "      <td>10.0</td>\n",
              "      <td>NaN</td>\n",
              "      <td>6.044</td>\n",
              "      <td>IDC</td>\n",
              "      <td>140.500000</td>\n",
              "      <td>1</td>\n",
              "      <td>Negative</td>\n",
              "      <td>1</td>\n",
              "      <td>ER-/HER2-</td>\n",
              "      <td>22.0</td>\n",
              "      <td>2.0</td>\n",
              "      <td>Living</td>\n",
              "    </tr>\n",
              "    <tr>\n",
              "      <th>1</th>\n",
              "      <td>2</td>\n",
              "      <td>43.19</td>\n",
              "      <td>BREAST CONSERVING</td>\n",
              "      <td>Breast Cancer</td>\n",
              "      <td>Breast Invasive Ductal Carcinoma</td>\n",
              "      <td>High</td>\n",
              "      <td>0</td>\n",
              "      <td>LumA</td>\n",
              "      <td>1.0</td>\n",
              "      <td>Positve</td>\n",
              "      <td>Positive</td>\n",
              "      <td>3.0</td>\n",
              "      <td>NEUTRAL</td>\n",
              "      <td>Negative</td>\n",
              "      <td>Ductal/NST</td>\n",
              "      <td>1</td>\n",
              "      <td>Pre</td>\n",
              "      <td>4ER+</td>\n",
              "      <td>Right</td>\n",
              "      <td>0.0</td>\n",
              "      <td>2.0</td>\n",
              "      <td>4.020</td>\n",
              "      <td>IDC</td>\n",
              "      <td>84.633333</td>\n",
              "      <td>1</td>\n",
              "      <td>Positive</td>\n",
              "      <td>1</td>\n",
              "      <td>ER+/HER2- High Prolif</td>\n",
              "      <td>10.0</td>\n",
              "      <td>1.0</td>\n",
              "      <td>Living</td>\n",
              "    </tr>\n",
              "    <tr>\n",
              "      <th>2</th>\n",
              "      <td>5</td>\n",
              "      <td>48.87</td>\n",
              "      <td>MASTECTOMY</td>\n",
              "      <td>Breast Cancer</td>\n",
              "      <td>Breast Invasive Ductal Carcinoma</td>\n",
              "      <td>High</td>\n",
              "      <td>1</td>\n",
              "      <td>LumB</td>\n",
              "      <td>1.0</td>\n",
              "      <td>Positve</td>\n",
              "      <td>Positive</td>\n",
              "      <td>2.0</td>\n",
              "      <td>NEUTRAL</td>\n",
              "      <td>Negative</td>\n",
              "      <td>Ductal/NST</td>\n",
              "      <td>1</td>\n",
              "      <td>Pre</td>\n",
              "      <td>3</td>\n",
              "      <td>Right</td>\n",
              "      <td>1.0</td>\n",
              "      <td>2.0</td>\n",
              "      <td>4.030</td>\n",
              "      <td>IDC</td>\n",
              "      <td>163.700000</td>\n",
              "      <td>0</td>\n",
              "      <td>Positive</td>\n",
              "      <td>0</td>\n",
              "      <td>NaN</td>\n",
              "      <td>15.0</td>\n",
              "      <td>2.0</td>\n",
              "      <td>Died of Disease</td>\n",
              "    </tr>\n",
              "    <tr>\n",
              "      <th>3</th>\n",
              "      <td>6</td>\n",
              "      <td>47.68</td>\n",
              "      <td>MASTECTOMY</td>\n",
              "      <td>Breast Cancer</td>\n",
              "      <td>Breast Mixed Ductal and Lobular Carcinoma</td>\n",
              "      <td>Moderate</td>\n",
              "      <td>1</td>\n",
              "      <td>LumB</td>\n",
              "      <td>1.0</td>\n",
              "      <td>Positve</td>\n",
              "      <td>Positive</td>\n",
              "      <td>2.0</td>\n",
              "      <td>NEUTRAL</td>\n",
              "      <td>Negative</td>\n",
              "      <td>Mixed</td>\n",
              "      <td>1</td>\n",
              "      <td>Pre</td>\n",
              "      <td>9</td>\n",
              "      <td>Right</td>\n",
              "      <td>3.0</td>\n",
              "      <td>1.0</td>\n",
              "      <td>4.050</td>\n",
              "      <td>MDLC</td>\n",
              "      <td>164.933333</td>\n",
              "      <td>1</td>\n",
              "      <td>Positive</td>\n",
              "      <td>1</td>\n",
              "      <td>NaN</td>\n",
              "      <td>25.0</td>\n",
              "      <td>2.0</td>\n",
              "      <td>Living</td>\n",
              "    </tr>\n",
              "    <tr>\n",
              "      <th>4</th>\n",
              "      <td>8</td>\n",
              "      <td>76.97</td>\n",
              "      <td>MASTECTOMY</td>\n",
              "      <td>Breast Cancer</td>\n",
              "      <td>Breast Mixed Ductal and Lobular Carcinoma</td>\n",
              "      <td>High</td>\n",
              "      <td>1</td>\n",
              "      <td>LumB</td>\n",
              "      <td>1.0</td>\n",
              "      <td>Positve</td>\n",
              "      <td>Positive</td>\n",
              "      <td>3.0</td>\n",
              "      <td>NEUTRAL</td>\n",
              "      <td>Negative</td>\n",
              "      <td>Mixed</td>\n",
              "      <td>1</td>\n",
              "      <td>Post</td>\n",
              "      <td>9</td>\n",
              "      <td>Right</td>\n",
              "      <td>8.0</td>\n",
              "      <td>2.0</td>\n",
              "      <td>6.080</td>\n",
              "      <td>MDLC</td>\n",
              "      <td>41.366667</td>\n",
              "      <td>0</td>\n",
              "      <td>Positive</td>\n",
              "      <td>1</td>\n",
              "      <td>ER+/HER2- High Prolif</td>\n",
              "      <td>40.0</td>\n",
              "      <td>2.0</td>\n",
              "      <td>Died of Disease</td>\n",
              "    </tr>\n",
              "  </tbody>\n",
              "</table>\n",
              "</div>\n",
              "      <button class=\"colab-df-convert\" onclick=\"convertToInteractive('df-f9b8cd3f-73c3-4db9-b2f9-734c5b6e7ad2')\"\n",
              "              title=\"Convert this dataframe to an interactive table.\"\n",
              "              style=\"display:none;\">\n",
              "        \n",
              "  <svg xmlns=\"http://www.w3.org/2000/svg\" height=\"24px\"viewBox=\"0 0 24 24\"\n",
              "       width=\"24px\">\n",
              "    <path d=\"M0 0h24v24H0V0z\" fill=\"none\"/>\n",
              "    <path d=\"M18.56 5.44l.94 2.06.94-2.06 2.06-.94-2.06-.94-.94-2.06-.94 2.06-2.06.94zm-11 1L8.5 8.5l.94-2.06 2.06-.94-2.06-.94L8.5 2.5l-.94 2.06-2.06.94zm10 10l.94 2.06.94-2.06 2.06-.94-2.06-.94-.94-2.06-.94 2.06-2.06.94z\"/><path d=\"M17.41 7.96l-1.37-1.37c-.4-.4-.92-.59-1.43-.59-.52 0-1.04.2-1.43.59L10.3 9.45l-7.72 7.72c-.78.78-.78 2.05 0 2.83L4 21.41c.39.39.9.59 1.41.59.51 0 1.02-.2 1.41-.59l7.78-7.78 2.81-2.81c.8-.78.8-2.07 0-2.86zM5.41 20L4 18.59l7.72-7.72 1.47 1.35L5.41 20z\"/>\n",
              "  </svg>\n",
              "      </button>\n",
              "      \n",
              "  <style>\n",
              "    .colab-df-container {\n",
              "      display:flex;\n",
              "      flex-wrap:wrap;\n",
              "      gap: 12px;\n",
              "    }\n",
              "\n",
              "    .colab-df-convert {\n",
              "      background-color: #E8F0FE;\n",
              "      border: none;\n",
              "      border-radius: 50%;\n",
              "      cursor: pointer;\n",
              "      display: none;\n",
              "      fill: #1967D2;\n",
              "      height: 32px;\n",
              "      padding: 0 0 0 0;\n",
              "      width: 32px;\n",
              "    }\n",
              "\n",
              "    .colab-df-convert:hover {\n",
              "      background-color: #E2EBFA;\n",
              "      box-shadow: 0px 1px 2px rgba(60, 64, 67, 0.3), 0px 1px 3px 1px rgba(60, 64, 67, 0.15);\n",
              "      fill: #174EA6;\n",
              "    }\n",
              "\n",
              "    [theme=dark] .colab-df-convert {\n",
              "      background-color: #3B4455;\n",
              "      fill: #D2E3FC;\n",
              "    }\n",
              "\n",
              "    [theme=dark] .colab-df-convert:hover {\n",
              "      background-color: #434B5C;\n",
              "      box-shadow: 0px 1px 3px 1px rgba(0, 0, 0, 0.15);\n",
              "      filter: drop-shadow(0px 1px 2px rgba(0, 0, 0, 0.3));\n",
              "      fill: #FFFFFF;\n",
              "    }\n",
              "  </style>\n",
              "\n",
              "      <script>\n",
              "        const buttonEl =\n",
              "          document.querySelector('#df-f9b8cd3f-73c3-4db9-b2f9-734c5b6e7ad2 button.colab-df-convert');\n",
              "        buttonEl.style.display =\n",
              "          google.colab.kernel.accessAllowed ? 'block' : 'none';\n",
              "\n",
              "        async function convertToInteractive(key) {\n",
              "          const element = document.querySelector('#df-f9b8cd3f-73c3-4db9-b2f9-734c5b6e7ad2');\n",
              "          const dataTable =\n",
              "            await google.colab.kernel.invokeFunction('convertToInteractive',\n",
              "                                                     [key], {});\n",
              "          if (!dataTable) return;\n",
              "\n",
              "          const docLinkHtml = 'Like what you see? Visit the ' +\n",
              "            '<a target=\"_blank\" href=https://colab.research.google.com/notebooks/data_table.ipynb>data table notebook</a>'\n",
              "            + ' to learn more about interactive tables.';\n",
              "          element.innerHTML = '';\n",
              "          dataTable['output_type'] = 'display_data';\n",
              "          await google.colab.output.renderOutput(dataTable, element);\n",
              "          const docLink = document.createElement('div');\n",
              "          docLink.innerHTML = docLinkHtml;\n",
              "          element.appendChild(docLink);\n",
              "        }\n",
              "      </script>\n",
              "    </div>\n",
              "  </div>\n",
              "  "
            ]
          },
          "metadata": {},
          "execution_count": 8
        }
      ]
    },
    {
      "cell_type": "code",
      "source": [
        "df.columns"
      ],
      "metadata": {
        "colab": {
          "base_uri": "https://localhost:8080/"
        },
        "id": "HVFrzpJjFZar",
        "outputId": "40dfa787-382c-4ce8-d6f7-99754f94e2de"
      },
      "execution_count": 9,
      "outputs": [
        {
          "output_type": "execute_result",
          "data": {
            "text/plain": [
              "Index(['patient_id', 'age_at_diagnosis', 'type_of_breast_surgery',\n",
              "       'cancer_type', 'cancer_type_detailed', 'cellularity', 'chemotherapy',\n",
              "       'pam50_+_claudin-low_subtype', 'cohort', 'er_status_measured_by_ihc',\n",
              "       'er_status', 'neoplasm_histologic_grade',\n",
              "       'her2_status_measured_by_snp6', 'her2_status',\n",
              "       'tumor_other_histologic_subtype', 'hormone_therapy',\n",
              "       'inferred_menopausal_state', 'integrative_cluster',\n",
              "       'primary_tumor_laterality', 'lymph_nodes_examined_positive',\n",
              "       'mutation_count', 'nottingham_prognostic_index', 'oncotree_code',\n",
              "       'overall_survival_months', 'overall_survival', 'pr_status',\n",
              "       'radio_therapy', '3-gene_classifier_subtype', 'tumor_size',\n",
              "       'tumor_stage', 'death_from_cancer'],\n",
              "      dtype='object')"
            ]
          },
          "metadata": {},
          "execution_count": 9
        }
      ]
    },
    {
      "cell_type": "markdown",
      "source": [
        "**Analisis Tiempo Supervivencia**\n",
        "* Vamos a analizar el efecto chemotherapy: Si la paciente recibió radioterapia como tratamiento (sí / no)\n",
        "* overallsurvivalmonths: Duración desde el momento de la intervención hasta la muerte.\n",
        "* overall_survival: Variable objetivo si el paciente está vivo o muerto."
      ],
      "metadata": {
        "id": "TWqMKa0XGgll"
      }
    },
    {
      "cell_type": "code",
      "source": [
        "df.radio_therapy.value_counts()"
      ],
      "metadata": {
        "colab": {
          "base_uri": "https://localhost:8080/"
        },
        "id": "ODPNKcigMmH7",
        "outputId": "e37b2aad-e11f-43dc-b72d-01aa06946757"
      },
      "execution_count": 10,
      "outputs": [
        {
          "output_type": "execute_result",
          "data": {
            "text/plain": [
              "1    1137\n",
              "0     767\n",
              "Name: radio_therapy, dtype: int64"
            ]
          },
          "metadata": {},
          "execution_count": 10
        }
      ]
    },
    {
      "cell_type": "code",
      "source": [
        "pd.crosstab(df.radio_therapy,df.overall_survival)"
      ],
      "metadata": {
        "colab": {
          "base_uri": "https://localhost:8080/",
          "height": 143
        },
        "id": "L49K7qOTMwxI",
        "outputId": "108f1ddd-1cb5-44d2-e38e-24911f4b6808"
      },
      "execution_count": 11,
      "outputs": [
        {
          "output_type": "execute_result",
          "data": {
            "text/plain": [
              "overall_survival    0    1\n",
              "radio_therapy             \n",
              "0                 496  271\n",
              "1                 607  530"
            ],
            "text/html": [
              "\n",
              "  <div id=\"df-9edf93ac-4441-4380-bd81-81d6838012e2\">\n",
              "    <div class=\"colab-df-container\">\n",
              "      <div>\n",
              "<style scoped>\n",
              "    .dataframe tbody tr th:only-of-type {\n",
              "        vertical-align: middle;\n",
              "    }\n",
              "\n",
              "    .dataframe tbody tr th {\n",
              "        vertical-align: top;\n",
              "    }\n",
              "\n",
              "    .dataframe thead th {\n",
              "        text-align: right;\n",
              "    }\n",
              "</style>\n",
              "<table border=\"1\" class=\"dataframe\">\n",
              "  <thead>\n",
              "    <tr style=\"text-align: right;\">\n",
              "      <th>overall_survival</th>\n",
              "      <th>0</th>\n",
              "      <th>1</th>\n",
              "    </tr>\n",
              "    <tr>\n",
              "      <th>radio_therapy</th>\n",
              "      <th></th>\n",
              "      <th></th>\n",
              "    </tr>\n",
              "  </thead>\n",
              "  <tbody>\n",
              "    <tr>\n",
              "      <th>0</th>\n",
              "      <td>496</td>\n",
              "      <td>271</td>\n",
              "    </tr>\n",
              "    <tr>\n",
              "      <th>1</th>\n",
              "      <td>607</td>\n",
              "      <td>530</td>\n",
              "    </tr>\n",
              "  </tbody>\n",
              "</table>\n",
              "</div>\n",
              "      <button class=\"colab-df-convert\" onclick=\"convertToInteractive('df-9edf93ac-4441-4380-bd81-81d6838012e2')\"\n",
              "              title=\"Convert this dataframe to an interactive table.\"\n",
              "              style=\"display:none;\">\n",
              "        \n",
              "  <svg xmlns=\"http://www.w3.org/2000/svg\" height=\"24px\"viewBox=\"0 0 24 24\"\n",
              "       width=\"24px\">\n",
              "    <path d=\"M0 0h24v24H0V0z\" fill=\"none\"/>\n",
              "    <path d=\"M18.56 5.44l.94 2.06.94-2.06 2.06-.94-2.06-.94-.94-2.06-.94 2.06-2.06.94zm-11 1L8.5 8.5l.94-2.06 2.06-.94-2.06-.94L8.5 2.5l-.94 2.06-2.06.94zm10 10l.94 2.06.94-2.06 2.06-.94-2.06-.94-.94-2.06-.94 2.06-2.06.94z\"/><path d=\"M17.41 7.96l-1.37-1.37c-.4-.4-.92-.59-1.43-.59-.52 0-1.04.2-1.43.59L10.3 9.45l-7.72 7.72c-.78.78-.78 2.05 0 2.83L4 21.41c.39.39.9.59 1.41.59.51 0 1.02-.2 1.41-.59l7.78-7.78 2.81-2.81c.8-.78.8-2.07 0-2.86zM5.41 20L4 18.59l7.72-7.72 1.47 1.35L5.41 20z\"/>\n",
              "  </svg>\n",
              "      </button>\n",
              "      \n",
              "  <style>\n",
              "    .colab-df-container {\n",
              "      display:flex;\n",
              "      flex-wrap:wrap;\n",
              "      gap: 12px;\n",
              "    }\n",
              "\n",
              "    .colab-df-convert {\n",
              "      background-color: #E8F0FE;\n",
              "      border: none;\n",
              "      border-radius: 50%;\n",
              "      cursor: pointer;\n",
              "      display: none;\n",
              "      fill: #1967D2;\n",
              "      height: 32px;\n",
              "      padding: 0 0 0 0;\n",
              "      width: 32px;\n",
              "    }\n",
              "\n",
              "    .colab-df-convert:hover {\n",
              "      background-color: #E2EBFA;\n",
              "      box-shadow: 0px 1px 2px rgba(60, 64, 67, 0.3), 0px 1px 3px 1px rgba(60, 64, 67, 0.15);\n",
              "      fill: #174EA6;\n",
              "    }\n",
              "\n",
              "    [theme=dark] .colab-df-convert {\n",
              "      background-color: #3B4455;\n",
              "      fill: #D2E3FC;\n",
              "    }\n",
              "\n",
              "    [theme=dark] .colab-df-convert:hover {\n",
              "      background-color: #434B5C;\n",
              "      box-shadow: 0px 1px 3px 1px rgba(0, 0, 0, 0.15);\n",
              "      filter: drop-shadow(0px 1px 2px rgba(0, 0, 0, 0.3));\n",
              "      fill: #FFFFFF;\n",
              "    }\n",
              "  </style>\n",
              "\n",
              "      <script>\n",
              "        const buttonEl =\n",
              "          document.querySelector('#df-9edf93ac-4441-4380-bd81-81d6838012e2 button.colab-df-convert');\n",
              "        buttonEl.style.display =\n",
              "          google.colab.kernel.accessAllowed ? 'block' : 'none';\n",
              "\n",
              "        async function convertToInteractive(key) {\n",
              "          const element = document.querySelector('#df-9edf93ac-4441-4380-bd81-81d6838012e2');\n",
              "          const dataTable =\n",
              "            await google.colab.kernel.invokeFunction('convertToInteractive',\n",
              "                                                     [key], {});\n",
              "          if (!dataTable) return;\n",
              "\n",
              "          const docLinkHtml = 'Like what you see? Visit the ' +\n",
              "            '<a target=\"_blank\" href=https://colab.research.google.com/notebooks/data_table.ipynb>data table notebook</a>'\n",
              "            + ' to learn more about interactive tables.';\n",
              "          element.innerHTML = '';\n",
              "          dataTable['output_type'] = 'display_data';\n",
              "          await google.colab.output.renderOutput(dataTable, element);\n",
              "          const docLink = document.createElement('div');\n",
              "          docLink.innerHTML = docLinkHtml;\n",
              "          element.appendChild(docLink);\n",
              "        }\n",
              "      </script>\n",
              "    </div>\n",
              "  </div>\n",
              "  "
            ]
          },
          "metadata": {},
          "execution_count": 11
        }
      ]
    },
    {
      "cell_type": "code",
      "source": [
        "df.death_from_cancer.value_counts()"
      ],
      "metadata": {
        "colab": {
          "base_uri": "https://localhost:8080/"
        },
        "id": "r1NzSlNyKCU8",
        "outputId": "ede11927-36cf-4cae-bbe0-b98fc61191c9"
      },
      "execution_count": 12,
      "outputs": [
        {
          "output_type": "execute_result",
          "data": {
            "text/plain": [
              "Living                  801\n",
              "Died of Disease         622\n",
              "Died of Other Causes    480\n",
              "Name: death_from_cancer, dtype: int64"
            ]
          },
          "metadata": {},
          "execution_count": 12
        }
      ]
    },
    {
      "cell_type": "code",
      "source": [
        "df.overall_survival.value_counts()"
      ],
      "metadata": {
        "colab": {
          "base_uri": "https://localhost:8080/"
        },
        "id": "sU0Js2aOJaqr",
        "outputId": "e86ec5f9-c2f8-4801-e8d3-a1338faef780"
      },
      "execution_count": 13,
      "outputs": [
        {
          "output_type": "execute_result",
          "data": {
            "text/plain": [
              "0    1103\n",
              "1     801\n",
              "Name: overall_survival, dtype: int64"
            ]
          },
          "metadata": {},
          "execution_count": 13
        }
      ]
    },
    {
      "cell_type": "code",
      "source": [
        "radio_therapy=df[df.radio_therapy==1]\n",
        "print(radio_therapy.shape)"
      ],
      "metadata": {
        "colab": {
          "base_uri": "https://localhost:8080/"
        },
        "id": "45zbFA8N4w0T",
        "outputId": "876186d2-5a94-4b07-a9c4-13e902d3fd11"
      },
      "execution_count": 17,
      "outputs": [
        {
          "output_type": "stream",
          "name": "stdout",
          "text": [
            "(1137, 31)\n"
          ]
        }
      ]
    },
    {
      "cell_type": "code",
      "source": [
        "sns.boxplot(y=\"overall_survival_months\", data=radio_therapy)\n",
        "plt.show()"
      ],
      "metadata": {
        "colab": {
          "base_uri": "https://localhost:8080/",
          "height": 252
        },
        "id": "x0Ms98A750vC",
        "outputId": "5f2ef406-2aee-48b2-9dc4-74801a2bc432"
      },
      "execution_count": 18,
      "outputs": [
        {
          "output_type": "display_data",
          "data": {
            "text/plain": [
              "<Figure size 432x288 with 1 Axes>"
            ],
            "image/png": "[encoded data removed]"
          },
          "metadata": {
            "needs_background": "light"
          }
        }
      ]
    },
    {
      "cell_type": "code",
      "source": [
        "sns.histplot(data=radio_therapy, x=\"overall_survival_months\", hue=\"overall_survival\",multiple=\"stack\")\n",
        "plt.show()"
      ],
      "metadata": {
        "colab": {
          "base_uri": "https://localhost:8080/",
          "height": 282
        },
        "id": "lrTlhCYR5-rC",
        "outputId": "33481f25-82bd-4850-f43b-b7541ed01d8c"
      },
      "execution_count": 19,
      "outputs": [
        {
          "output_type": "display_data",
          "data": {
            "text/plain": [
              "<Figure size 432x288 with 1 Axes>"
            ],
            "image/png": "[encoded data removed]"
          },
          "metadata": {
            "needs_background": "light"
          }
        }
      ]
    },
    {
      "cell_type": "code",
      "source": [
        "radio_therapy.head(5)"
      ],
      "metadata": {
        "colab": {
          "base_uri": "https://localhost:8080/",
          "height": 374
        },
        "id": "tTJdnMBO6J_0",
        "outputId": "1afe46d1-6ee5-41c6-8fea-19574a194a66"
      },
      "execution_count": 20,
      "outputs": [
        {
          "output_type": "execute_result",
          "data": {
            "text/plain": [
              "   patient_id  age_at_diagnosis type_of_breast_surgery    cancer_type  \\\n",
              "0           0             75.65             MASTECTOMY  Breast Cancer   \n",
              "1           2             43.19      BREAST CONSERVING  Breast Cancer   \n",
              "3           6             47.68             MASTECTOMY  Breast Cancer   \n",
              "4           8             76.97             MASTECTOMY  Breast Cancer   \n",
              "5          10             78.77             MASTECTOMY  Breast Cancer   \n",
              "\n",
              "                        cancer_type_detailed cellularity  chemotherapy  \\\n",
              "0           Breast Invasive Ductal Carcinoma         NaN             0   \n",
              "1           Breast Invasive Ductal Carcinoma        High             0   \n",
              "3  Breast Mixed Ductal and Lobular Carcinoma    Moderate             1   \n",
              "4  Breast Mixed Ductal and Lobular Carcinoma        High             1   \n",
              "5           Breast Invasive Ductal Carcinoma    Moderate             0   \n",
              "\n",
              "  pam50_+_claudin-low_subtype  cohort er_status_measured_by_ihc er_status  \\\n",
              "0                 claudin-low     1.0                   Positve  Positive   \n",
              "1                        LumA     1.0                   Positve  Positive   \n",
              "3                        LumB     1.0                   Positve  Positive   \n",
              "4                        LumB     1.0                   Positve  Positive   \n",
              "5                        LumB     1.0                   Positve  Positive   \n",
              "\n",
              "   neoplasm_histologic_grade her2_status_measured_by_snp6 her2_status  \\\n",
              "0                        3.0                      NEUTRAL    Negative   \n",
              "1                        3.0                      NEUTRAL    Negative   \n",
              "3                        2.0                      NEUTRAL    Negative   \n",
              "4                        3.0                      NEUTRAL    Negative   \n",
              "5                        3.0                      NEUTRAL    Negative   \n",
              "\n",
              "  tumor_other_histologic_subtype  hormone_therapy inferred_menopausal_state  \\\n",
              "0                     Ductal/NST                1                      Post   \n",
              "1                     Ductal/NST                1                       Pre   \n",
              "3                          Mixed                1                       Pre   \n",
              "4                          Mixed                1                      Post   \n",
              "5                     Ductal/NST                1                      Post   \n",
              "\n",
              "  integrative_cluster primary_tumor_laterality  lymph_nodes_examined_positive  \\\n",
              "0                4ER+                    Right                           10.0   \n",
              "1                4ER+                    Right                            0.0   \n",
              "3                   9                    Right                            3.0   \n",
              "4                   9                    Right                            8.0   \n",
              "5                   7                     Left                            0.0   \n",
              "\n",
              "   mutation_count  nottingham_prognostic_index oncotree_code  \\\n",
              "0             NaN                        6.044           IDC   \n",
              "1             2.0                        4.020           IDC   \n",
              "3             1.0                        4.050          MDLC   \n",
              "4             2.0                        6.080          MDLC   \n",
              "5             4.0                        4.062           IDC   \n",
              "\n",
              "   overall_survival_months  overall_survival pr_status  radio_therapy  \\\n",
              "0               140.500000                 1  Negative              1   \n",
              "1                84.633333                 1  Positive              1   \n",
              "3               164.933333                 1  Positive              1   \n",
              "4                41.366667                 0  Positive              1   \n",
              "5                 7.800000                 0  Positive              1   \n",
              "\n",
              "  3-gene_classifier_subtype  tumor_size  tumor_stage death_from_cancer  \n",
              "0                 ER-/HER2-        22.0          2.0            Living  \n",
              "1     ER+/HER2- High Prolif        10.0          1.0            Living  \n",
              "3                       NaN        25.0          2.0            Living  \n",
              "4     ER+/HER2- High Prolif        40.0          2.0   Died of Disease  \n",
              "5     ER+/HER2- High Prolif        31.0          4.0   Died of Disease  "
            ],
            "text/html": [
              "\n",
              "  <div id=\"df-b40690ec-68b2-45c3-b968-8411eda9d374\">\n",
              "    <div class=\"colab-df-container\">\n",
              "      <div>\n",
              "<style scoped>\n",
              "    .dataframe tbody tr th:only-of-type {\n",
              "        vertical-align: middle;\n",
              "    }\n",
              "\n",
              "    .dataframe tbody tr th {\n",
              "        vertical-align: top;\n",
              "    }\n",
              "\n",
              "    .dataframe thead th {\n",
              "        text-align: right;\n",
              "    }\n",
              "</style>\n",
              "<table border=\"1\" class=\"dataframe\">\n",
              "  <thead>\n",
              "    <tr style=\"text-align: right;\">\n",
              "      <th></th>\n",
              "      <th>patient_id</th>\n",
              "      <th>age_at_diagnosis</th>\n",
              "      <th>type_of_breast_surgery</th>\n",
              "      <th>cancer_type</th>\n",
              "      <th>cancer_type_detailed</th>\n",
              "      <th>cellularity</th>\n",
              "      <th>chemotherapy</th>\n",
              "      <th>pam50_+_claudin-low_subtype</th>\n",
              "      <th>cohort</th>\n",
              "      <th>er_status_measured_by_ihc</th>\n",
              "      <th>er_status</th>\n",
              "      <th>neoplasm_histologic_grade</th>\n",
              "      <th>her2_status_measured_by_snp6</th>\n",
              "      <th>her2_status</th>\n",
              "      <th>tumor_other_histologic_subtype</th>\n",
              "      <th>hormone_therapy</th>\n",
              "      <th>inferred_menopausal_state</th>\n",
              "      <th>integrative_cluster</th>\n",
              "      <th>primary_tumor_laterality</th>\n",
              "      <th>lymph_nodes_examined_positive</th>\n",
              "      <th>mutation_count</th>\n",
              "      <th>nottingham_prognostic_index</th>\n",
              "      <th>oncotree_code</th>\n",
              "      <th>overall_survival_months</th>\n",
              "      <th>overall_survival</th>\n",
              "      <th>pr_status</th>\n",
              "      <th>radio_therapy</th>\n",
              "      <th>3-gene_classifier_subtype</th>\n",
              "      <th>tumor_size</th>\n",
              "      <th>tumor_stage</th>\n",
              "      <th>death_from_cancer</th>\n",
              "    </tr>\n",
              "  </thead>\n",
              "  <tbody>\n",
              "    <tr>\n",
              "      <th>0</th>\n",
              "      <td>0</td>\n",
              "      <td>75.65</td>\n",
              "      <td>MASTECTOMY</td>\n",
              "      <td>Breast Cancer</td>\n",
              "      <td>Breast Invasive Ductal Carcinoma</td>\n",
              "      <td>NaN</td>\n",
              "      <td>0</td>\n",
              "      <td>claudin-low</td>\n",
              "      <td>1.0</td>\n",
              "      <td>Positve</td>\n",
              "      <td>Positive</td>\n",
              "      <td>3.0</td>\n",
              "      <td>NEUTRAL</td>\n",
              "      <td>Negative</td>\n",
              "      <td>Ductal/NST</td>\n",
              "      <td>1</td>\n",
              "      <td>Post</td>\n",
              "      <td>4ER+</td>\n",
              "      <td>Right</td>\n",
              "      <td>10.0</td>\n",
              "      <td>NaN</td>\n",
              "      <td>6.044</td>\n",
              "      <td>IDC</td>\n",
              "      <td>140.500000</td>\n",
              "      <td>1</td>\n",
              "      <td>Negative</td>\n",
              "      <td>1</td>\n",
              "      <td>ER-/HER2-</td>\n",
              "      <td>22.0</td>\n",
              "      <td>2.0</td>\n",
              "      <td>Living</td>\n",
              "    </tr>\n",
              "    <tr>\n",
              "      <th>1</th>\n",
              "      <td>2</td>\n",
              "      <td>43.19</td>\n",
              "      <td>BREAST CONSERVING</td>\n",
              "      <td>Breast Cancer</td>\n",
              "      <td>Breast Invasive Ductal Carcinoma</td>\n",
              "      <td>High</td>\n",
              "      <td>0</td>\n",
              "      <td>LumA</td>\n",
              "      <td>1.0</td>\n",
              "      <td>Positve</td>\n",
              "      <td>Positive</td>\n",
              "      <td>3.0</td>\n",
              "      <td>NEUTRAL</td>\n",
              "      <td>Negative</td>\n",
              "      <td>Ductal/NST</td>\n",
              "      <td>1</td>\n",
              "      <td>Pre</td>\n",
              "      <td>4ER+</td>\n",
              "      <td>Right</td>\n",
              "      <td>0.0</td>\n",
              "      <td>2.0</td>\n",
              "      <td>4.020</td>\n",
              "      <td>IDC</td>\n",
              "      <td>84.633333</td>\n",
              "      <td>1</td>\n",
              "      <td>Positive</td>\n",
              "      <td>1</td>\n",
              "      <td>ER+/HER2- High Prolif</td>\n",
              "      <td>10.0</td>\n",
              "      <td>1.0</td>\n",
              "      <td>Living</td>\n",
              "    </tr>\n",
              "    <tr>\n",
              "      <th>3</th>\n",
              "      <td>6</td>\n",
              "      <td>47.68</td>\n",
              "      <td>MASTECTOMY</td>\n",
              "      <td>Breast Cancer</td>\n",
              "      <td>Breast Mixed Ductal and Lobular Carcinoma</td>\n",
              "      <td>Moderate</td>\n",
              "      <td>1</td>\n",
              "      <td>LumB</td>\n",
              "      <td>1.0</td>\n",
              "      <td>Positve</td>\n",
              "      <td>Positive</td>\n",
              "      <td>2.0</td>\n",
              "      <td>NEUTRAL</td>\n",
              "      <td>Negative</td>\n",
              "      <td>Mixed</td>\n",
              "      <td>1</td>\n",
              "      <td>Pre</td>\n",
              "      <td>9</td>\n",
              "      <td>Right</td>\n",
              "      <td>3.0</td>\n",
              "      <td>1.0</td>\n",
              "      <td>4.050</td>\n",
              "      <td>MDLC</td>\n",
              "      <td>164.933333</td>\n",
              "      <td>1</td>\n",
              "      <td>Positive</td>\n",
              "      <td>1</td>\n",
              "      <td>NaN</td>\n",
              "      <td>25.0</td>\n",
              "      <td>2.0</td>\n",
              "      <td>Living</td>\n",
              "    </tr>\n",
              "    <tr>\n",
              "      <th>4</th>\n",
              "      <td>8</td>\n",
              "      <td>76.97</td>\n",
              "      <td>MASTECTOMY</td>\n",
              "      <td>Breast Cancer</td>\n",
              "      <td>Breast Mixed Ductal and Lobular Carcinoma</td>\n",
              "      <td>High</td>\n",
              "      <td>1</td>\n",
              "      <td>LumB</td>\n",
              "      <td>1.0</td>\n",
              "      <td>Positve</td>\n",
              "      <td>Positive</td>\n",
              "      <td>3.0</td>\n",
              "      <td>NEUTRAL</td>\n",
              "      <td>Negative</td>\n",
              "      <td>Mixed</td>\n",
              "      <td>1</td>\n",
              "      <td>Post</td>\n",
              "      <td>9</td>\n",
              "      <td>Right</td>\n",
              "      <td>8.0</td>\n",
              "      <td>2.0</td>\n",
              "      <td>6.080</td>\n",
              "      <td>MDLC</td>\n",
              "      <td>41.366667</td>\n",
              "      <td>0</td>\n",
              "      <td>Positive</td>\n",
              "      <td>1</td>\n",
              "      <td>ER+/HER2- High Prolif</td>\n",
              "      <td>40.0</td>\n",
              "      <td>2.0</td>\n",
              "      <td>Died of Disease</td>\n",
              "    </tr>\n",
              "    <tr>\n",
              "      <th>5</th>\n",
              "      <td>10</td>\n",
              "      <td>78.77</td>\n",
              "      <td>MASTECTOMY</td>\n",
              "      <td>Breast Cancer</td>\n",
              "      <td>Breast Invasive Ductal Carcinoma</td>\n",
              "      <td>Moderate</td>\n",
              "      <td>0</td>\n",
              "      <td>LumB</td>\n",
              "      <td>1.0</td>\n",
              "      <td>Positve</td>\n",
              "      <td>Positive</td>\n",
              "      <td>3.0</td>\n",
              "      <td>NEUTRAL</td>\n",
              "      <td>Negative</td>\n",
              "      <td>Ductal/NST</td>\n",
              "      <td>1</td>\n",
              "      <td>Post</td>\n",
              "      <td>7</td>\n",
              "      <td>Left</td>\n",
              "      <td>0.0</td>\n",
              "      <td>4.0</td>\n",
              "      <td>4.062</td>\n",
              "      <td>IDC</td>\n",
              "      <td>7.800000</td>\n",
              "      <td>0</td>\n",
              "      <td>Positive</td>\n",
              "      <td>1</td>\n",
              "      <td>ER+/HER2- High Prolif</td>\n",
              "      <td>31.0</td>\n",
              "      <td>4.0</td>\n",
              "      <td>Died of Disease</td>\n",
              "    </tr>\n",
              "  </tbody>\n",
              "</table>\n",
              "</div>\n",
              "      <button class=\"colab-df-convert\" onclick=\"convertToInteractive('df-b40690ec-68b2-45c3-b968-8411eda9d374')\"\n",
              "              title=\"Convert this dataframe to an interactive table.\"\n",
              "              style=\"display:none;\">\n",
              "        \n",
              "  <svg xmlns=\"http://www.w3.org/2000/svg\" height=\"24px\"viewBox=\"0 0 24 24\"\n",
              "       width=\"24px\">\n",
              "    <path d=\"M0 0h24v24H0V0z\" fill=\"none\"/>\n",
              "    <path d=\"M18.56 5.44l.94 2.06.94-2.06 2.06-.94-2.06-.94-.94-2.06-.94 2.06-2.06.94zm-11 1L8.5 8.5l.94-2.06 2.06-.94-2.06-.94L8.5 2.5l-.94 2.06-2.06.94zm10 10l.94 2.06.94-2.06 2.06-.94-2.06-.94-.94-2.06-.94 2.06-2.06.94z\"/><path d=\"M17.41 7.96l-1.37-1.37c-.4-.4-.92-.59-1.43-.59-.52 0-1.04.2-1.43.59L10.3 9.45l-7.72 7.72c-.78.78-.78 2.05 0 2.83L4 21.41c.39.39.9.59 1.41.59.51 0 1.02-.2 1.41-.59l7.78-7.78 2.81-2.81c.8-.78.8-2.07 0-2.86zM5.41 20L4 18.59l7.72-7.72 1.47 1.35L5.41 20z\"/>\n",
              "  </svg>\n",
              "      </button>\n",
              "      \n",
              "  <style>\n",
              "    .colab-df-container {\n",
              "      display:flex;\n",
              "      flex-wrap:wrap;\n",
              "      gap: 12px;\n",
              "    }\n",
              "\n",
              "    .colab-df-convert {\n",
              "      background-color: #E8F0FE;\n",
              "      border: none;\n",
              "      border-radius: 50%;\n",
              "      cursor: pointer;\n",
              "      display: none;\n",
              "      fill: #1967D2;\n",
              "      height: 32px;\n",
              "      padding: 0 0 0 0;\n",
              "      width: 32px;\n",
              "    }\n",
              "\n",
              "    .colab-df-convert:hover {\n",
              "      background-color: #E2EBFA;\n",
              "      box-shadow: 0px 1px 2px rgba(60, 64, 67, 0.3), 0px 1px 3px 1px rgba(60, 64, 67, 0.15);\n",
              "      fill: #174EA6;\n",
              "    }\n",
              "\n",
              "    [theme=dark] .colab-df-convert {\n",
              "      background-color: #3B4455;\n",
              "      fill: #D2E3FC;\n",
              "    }\n",
              "\n",
              "    [theme=dark] .colab-df-convert:hover {\n",
              "      background-color: #434B5C;\n",
              "      box-shadow: 0px 1px 3px 1px rgba(0, 0, 0, 0.15);\n",
              "      filter: drop-shadow(0px 1px 2px rgba(0, 0, 0, 0.3));\n",
              "      fill: #FFFFFF;\n",
              "    }\n",
              "  </style>\n",
              "\n",
              "      <script>\n",
              "        const buttonEl =\n",
              "          document.querySelector('#df-b40690ec-68b2-45c3-b968-8411eda9d374 button.colab-df-convert');\n",
              "        buttonEl.style.display =\n",
              "          google.colab.kernel.accessAllowed ? 'block' : 'none';\n",
              "\n",
              "        async function convertToInteractive(key) {\n",
              "          const element = document.querySelector('#df-b40690ec-68b2-45c3-b968-8411eda9d374');\n",
              "          const dataTable =\n",
              "            await google.colab.kernel.invokeFunction('convertToInteractive',\n",
              "                                                     [key], {});\n",
              "          if (!dataTable) return;\n",
              "\n",
              "          const docLinkHtml = 'Like what you see? Visit the ' +\n",
              "            '<a target=\"_blank\" href=https://colab.research.google.com/notebooks/data_table.ipynb>data table notebook</a>'\n",
              "            + ' to learn more about interactive tables.';\n",
              "          element.innerHTML = '';\n",
              "          dataTable['output_type'] = 'display_data';\n",
              "          await google.colab.output.renderOutput(dataTable, element);\n",
              "          const docLink = document.createElement('div');\n",
              "          docLink.innerHTML = docLinkHtml;\n",
              "          element.appendChild(docLink);\n",
              "        }\n",
              "      </script>\n",
              "    </div>\n",
              "  </div>\n",
              "  "
            ]
          },
          "metadata": {},
          "execution_count": 20
        }
      ]
    },
    {
      "cell_type": "markdown",
      "source": [
        "Hallar el estimador de Kaplan-Meier para la función de supervivencia de todos los individuos juntos, sin importar el grupo. Representarlo en un gráfico. Representar con un símbolo sobre el gráfico anterior los eventos censurados."
      ],
      "metadata": {
        "id": "A4qbJP5eKuJ1"
      }
    },
    {
      "cell_type": "code",
      "source": [
        "radio_therapy[\"E\"]=\"\"\n",
        "radio_therapy[\"E\"][radio_therapy.overall_survival==1]=0\n",
        "radio_therapy[\"E\"][radio_therapy.overall_survival==0]=1"
      ],
      "metadata": {
        "colab": {
          "base_uri": "https://localhost:8080/"
        },
        "id": "eqq8KBQm6Rho",
        "outputId": "8fb21a41-c152-4828-83cc-44563fcbe2d5"
      },
      "execution_count": 21,
      "outputs": [
        {
          "output_type": "stream",
          "name": "stderr",
          "text": [
            "/usr/local/lib/python3.7/dist-packages/ipykernel_launcher.py:1: SettingWithCopyWarning: \n",
            "A value is trying to be set on a copy of a slice from a DataFrame.\n",
            "Try using .loc[row_indexer,col_indexer] = value instead\n",
            "\n",
            "See the caveats in the documentation: https://pandas.pydata.org/pandas-docs/stable/user_guide/indexing.html#returning-a-view-versus-a-copy\n",
            "  \"\"\"Entry point for launching an IPython kernel.\n",
            "/usr/local/lib/python3.7/dist-packages/ipykernel_launcher.py:2: SettingWithCopyWarning: \n",
            "A value is trying to be set on a copy of a slice from a DataFrame\n",
            "\n",
            "See the caveats in the documentation: https://pandas.pydata.org/pandas-docs/stable/user_guide/indexing.html#returning-a-view-versus-a-copy\n",
            "  \n",
            "/usr/local/lib/python3.7/dist-packages/pandas/core/generic.py:8870: SettingWithCopyWarning: \n",
            "A value is trying to be set on a copy of a slice from a DataFrame\n",
            "\n",
            "See the caveats in the documentation: https://pandas.pydata.org/pandas-docs/stable/user_guide/indexing.html#returning-a-view-versus-a-copy\n",
            "  return self._update_inplace(result)\n",
            "/usr/local/lib/python3.7/dist-packages/ipykernel_launcher.py:3: SettingWithCopyWarning: \n",
            "A value is trying to be set on a copy of a slice from a DataFrame\n",
            "\n",
            "See the caveats in the documentation: https://pandas.pydata.org/pandas-docs/stable/user_guide/indexing.html#returning-a-view-versus-a-copy\n",
            "  This is separate from the ipykernel package so we can avoid doing imports until\n"
          ]
        }
      ]
    },
    {
      "cell_type": "code",
      "source": [
        "radio_therapy.groupby(\"E\").agg({\"overall_survival_months\":\"mean\"})"
      ],
      "metadata": {
        "colab": {
          "base_uri": "https://localhost:8080/",
          "height": 143
        },
        "id": "8UfLR_pI6e7Z",
        "outputId": "b01a1171-4a5a-45ed-fb83-a0f85b4ebed8"
      },
      "execution_count": 22,
      "outputs": [
        {
          "output_type": "execute_result",
          "data": {
            "text/plain": [
              "   overall_survival_months\n",
              "E                         \n",
              "0               156.704969\n",
              "1                96.860571"
            ],
            "text/html": [
              "\n",
              "  <div id=\"df-2929a046-4b36-4889-8a03-37a50e2b2b5c\">\n",
              "    <div class=\"colab-df-container\">\n",
              "      <div>\n",
              "<style scoped>\n",
              "    .dataframe tbody tr th:only-of-type {\n",
              "        vertical-align: middle;\n",
              "    }\n",
              "\n",
              "    .dataframe tbody tr th {\n",
              "        vertical-align: top;\n",
              "    }\n",
              "\n",
              "    .dataframe thead th {\n",
              "        text-align: right;\n",
              "    }\n",
              "</style>\n",
              "<table border=\"1\" class=\"dataframe\">\n",
              "  <thead>\n",
              "    <tr style=\"text-align: right;\">\n",
              "      <th></th>\n",
              "      <th>overall_survival_months</th>\n",
              "    </tr>\n",
              "    <tr>\n",
              "      <th>E</th>\n",
              "      <th></th>\n",
              "    </tr>\n",
              "  </thead>\n",
              "  <tbody>\n",
              "    <tr>\n",
              "      <th>0</th>\n",
              "      <td>156.704969</td>\n",
              "    </tr>\n",
              "    <tr>\n",
              "      <th>1</th>\n",
              "      <td>96.860571</td>\n",
              "    </tr>\n",
              "  </tbody>\n",
              "</table>\n",
              "</div>\n",
              "      <button class=\"colab-df-convert\" onclick=\"convertToInteractive('df-2929a046-4b36-4889-8a03-37a50e2b2b5c')\"\n",
              "              title=\"Convert this dataframe to an interactive table.\"\n",
              "              style=\"display:none;\">\n",
              "        \n",
              "  <svg xmlns=\"http://www.w3.org/2000/svg\" height=\"24px\"viewBox=\"0 0 24 24\"\n",
              "       width=\"24px\">\n",
              "    <path d=\"M0 0h24v24H0V0z\" fill=\"none\"/>\n",
              "    <path d=\"M18.56 5.44l.94 2.06.94-2.06 2.06-.94-2.06-.94-.94-2.06-.94 2.06-2.06.94zm-11 1L8.5 8.5l.94-2.06 2.06-.94-2.06-.94L8.5 2.5l-.94 2.06-2.06.94zm10 10l.94 2.06.94-2.06 2.06-.94-2.06-.94-.94-2.06-.94 2.06-2.06.94z\"/><path d=\"M17.41 7.96l-1.37-1.37c-.4-.4-.92-.59-1.43-.59-.52 0-1.04.2-1.43.59L10.3 9.45l-7.72 7.72c-.78.78-.78 2.05 0 2.83L4 21.41c.39.39.9.59 1.41.59.51 0 1.02-.2 1.41-.59l7.78-7.78 2.81-2.81c.8-.78.8-2.07 0-2.86zM5.41 20L4 18.59l7.72-7.72 1.47 1.35L5.41 20z\"/>\n",
              "  </svg>\n",
              "      </button>\n",
              "      \n",
              "  <style>\n",
              "    .colab-df-container {\n",
              "      display:flex;\n",
              "      flex-wrap:wrap;\n",
              "      gap: 12px;\n",
              "    }\n",
              "\n",
              "    .colab-df-convert {\n",
              "      background-color: #E8F0FE;\n",
              "      border: none;\n",
              "      border-radius: 50%;\n",
              "      cursor: pointer;\n",
              "      display: none;\n",
              "      fill: #1967D2;\n",
              "      height: 32px;\n",
              "      padding: 0 0 0 0;\n",
              "      width: 32px;\n",
              "    }\n",
              "\n",
              "    .colab-df-convert:hover {\n",
              "      background-color: #E2EBFA;\n",
              "      box-shadow: 0px 1px 2px rgba(60, 64, 67, 0.3), 0px 1px 3px 1px rgba(60, 64, 67, 0.15);\n",
              "      fill: #174EA6;\n",
              "    }\n",
              "\n",
              "    [theme=dark] .colab-df-convert {\n",
              "      background-color: #3B4455;\n",
              "      fill: #D2E3FC;\n",
              "    }\n",
              "\n",
              "    [theme=dark] .colab-df-convert:hover {\n",
              "      background-color: #434B5C;\n",
              "      box-shadow: 0px 1px 3px 1px rgba(0, 0, 0, 0.15);\n",
              "      filter: drop-shadow(0px 1px 2px rgba(0, 0, 0, 0.3));\n",
              "      fill: #FFFFFF;\n",
              "    }\n",
              "  </style>\n",
              "\n",
              "      <script>\n",
              "        const buttonEl =\n",
              "          document.querySelector('#df-2929a046-4b36-4889-8a03-37a50e2b2b5c button.colab-df-convert');\n",
              "        buttonEl.style.display =\n",
              "          google.colab.kernel.accessAllowed ? 'block' : 'none';\n",
              "\n",
              "        async function convertToInteractive(key) {\n",
              "          const element = document.querySelector('#df-2929a046-4b36-4889-8a03-37a50e2b2b5c');\n",
              "          const dataTable =\n",
              "            await google.colab.kernel.invokeFunction('convertToInteractive',\n",
              "                                                     [key], {});\n",
              "          if (!dataTable) return;\n",
              "\n",
              "          const docLinkHtml = 'Like what you see? Visit the ' +\n",
              "            '<a target=\"_blank\" href=https://colab.research.google.com/notebooks/data_table.ipynb>data table notebook</a>'\n",
              "            + ' to learn more about interactive tables.';\n",
              "          element.innerHTML = '';\n",
              "          dataTable['output_type'] = 'display_data';\n",
              "          await google.colab.output.renderOutput(dataTable, element);\n",
              "          const docLink = document.createElement('div');\n",
              "          docLink.innerHTML = docLinkHtml;\n",
              "          element.appendChild(docLink);\n",
              "        }\n",
              "      </script>\n",
              "    </div>\n",
              "  </div>\n",
              "  "
            ]
          },
          "metadata": {},
          "execution_count": 22
        }
      ]
    },
    {
      "cell_type": "code",
      "source": [
        "kmf=KaplanMeierFitter() # Vacio\n",
        "kmf.fit(durations=radio_therapy.overall_survival_months,event_observed=radio_therapy.E)"
      ],
      "metadata": {
        "colab": {
          "base_uri": "https://localhost:8080/"
        },
        "id": "gOCsZXkiJTQx",
        "outputId": "3801c0ea-1514-4651-fa70-88f7aef08b1e"
      },
      "execution_count": 23,
      "outputs": [
        {
          "output_type": "stream",
          "name": "stderr",
          "text": [
            "/usr/local/lib/python3.7/dist-packages/lifelines/utils/__init__.py:1188: UserWarning: Attempting to convert an unexpected datatype 'object' to float. Suggestion: 1) use `lifelines.utils.datetimes_to_durations` to do conversions or 2) manually convert to floats/booleans.\n",
            "  warnings.warn(warning_text, UserWarning)\n"
          ]
        },
        {
          "output_type": "execute_result",
          "data": {
            "text/plain": [
              "<lifelines.KaplanMeierFitter:\"KM_estimate\", fitted with 1137 total observations, 530 right-censored observations>"
            ]
          },
          "metadata": {},
          "execution_count": 23
        }
      ]
    },
    {
      "cell_type": "code",
      "source": [
        "plt.figure(figsize=(10,10))\n",
        "kmf.plot(color=\"darkblue\")\n",
        "plt.title(\"La Funcion de Kaplan-Mier General Estimada\",fontsize=20)\n",
        "plt.xlabel(\"Número de Meses\",fontsize=20)\n",
        "plt.ylabel(\"Probabilidad de Supervivencia\",fontsize=20)\n",
        "plt.legend([\"Grupo Control\"])\n",
        "plt.xticks(fontsize=16)\n",
        "plt.yticks(fontsize=16)\n",
        "plt.show()"
      ],
      "metadata": {
        "colab": {
          "base_uri": "https://localhost:8080/",
          "height": 641
        },
        "id": "UU66NEHY61nS",
        "outputId": "cb6f2476-11f3-484e-e523-6d3325d7e450"
      },
      "execution_count": 24,
      "outputs": [
        {
          "output_type": "display_data",
          "data": {
            "text/plain": [
              "<Figure size 720x720 with 1 Axes>"
            ],
            "image/png": "[encoded data removed]"
          },
          "metadata": {
            "needs_background": "light"
          }
        }
      ]
    },
    {
      "cell_type": "markdown",
      "source": [
        "**La función de supervivencia de todos los individuos juntos, radiotherapy**"
      ],
      "metadata": {
        "id": "JhPvm3WgLQ_J"
      }
    },
    {
      "cell_type": "code",
      "source": [
        "radio_therapy.hormone_therapy.value_counts()"
      ],
      "metadata": {
        "colab": {
          "base_uri": "https://localhost:8080/"
        },
        "id": "C0bYvFbE7OOK",
        "outputId": "b6f2ca7a-6756-4527-82e2-259041cb6a6d"
      },
      "execution_count": 25,
      "outputs": [
        {
          "output_type": "execute_result",
          "data": {
            "text/plain": [
              "1    741\n",
              "0    396\n",
              "Name: hormone_therapy, dtype: int64"
            ]
          },
          "metadata": {},
          "execution_count": 25
        }
      ]
    },
    {
      "cell_type": "code",
      "source": [
        "sns.boxplot(x=\"hormone_therapy\",y=\"overall_survival_months\", data=radio_therapy)\n",
        "plt.show()"
      ],
      "metadata": {
        "colab": {
          "base_uri": "https://localhost:8080/",
          "height": 280
        },
        "id": "nnDuSSm9-ZW_",
        "outputId": "31ed3d1f-b6d7-408d-e394-5805b15f63e6"
      },
      "execution_count": 26,
      "outputs": [
        {
          "output_type": "display_data",
          "data": {
            "text/plain": [
              "<Figure size 432x288 with 1 Axes>"
            ],
            "image/png": "[encoded data removed]"
          },
          "metadata": {
            "needs_background": "light"
          }
        }
      ]
    },
    {
      "cell_type": "markdown",
      "source": [
        "## Radioterapia vs Tratamiento Hormonal"
      ],
      "metadata": {
        "id": "nn7Qp91hP4Yw"
      }
    },
    {
      "cell_type": "code",
      "source": [
        "control=radio_therapy[radio_therapy.hormone_therapy==0]\n",
        "tratamiento=radio_therapy[radio_therapy.hormone_therapy==1]"
      ],
      "metadata": {
        "id": "B-MwTNnNShsW"
      },
      "execution_count": 27,
      "outputs": []
    },
    {
      "cell_type": "code",
      "source": [
        "# Modelos Instanciado, Pero Vacion sin ningun Ajuste de Datos\n",
        "kmf_control=KaplanMeierFitter()\n",
        "Kmf_tratamiento=KaplanMeierFitter()\n",
        "# Ajustar Los datos a los Modelos\n",
        "kmf_control.fit(durations=control.overall_survival_months,event_observed=control.E)\n",
        "Kmf_tratamiento.fit(durations=tratamiento.overall_survival_months,event_observed=tratamiento.E)"
      ],
      "metadata": {
        "colab": {
          "base_uri": "https://localhost:8080/"
        },
        "id": "Rd_deZk-P1DW",
        "outputId": "f9210903-4428-4d93-a3eb-11b4d4a67ba0"
      },
      "execution_count": 28,
      "outputs": [
        {
          "output_type": "stream",
          "name": "stderr",
          "text": [
            "/usr/local/lib/python3.7/dist-packages/lifelines/utils/__init__.py:1188: UserWarning: Attempting to convert an unexpected datatype 'object' to float. Suggestion: 1) use `lifelines.utils.datetimes_to_durations` to do conversions or 2) manually convert to floats/booleans.\n",
            "  warnings.warn(warning_text, UserWarning)\n"
          ]
        },
        {
          "output_type": "execute_result",
          "data": {
            "text/plain": [
              "<lifelines.KaplanMeierFitter:\"KM_estimate\", fitted with 741 total observations, 336 right-censored observations>"
            ]
          },
          "metadata": {},
          "execution_count": 28
        }
      ]
    },
    {
      "cell_type": "code",
      "source": [
        "Mediana_Control=kmf_control.median_survival_time_\n",
        "print(Mediana_Control)"
      ],
      "metadata": {
        "colab": {
          "base_uri": "https://localhost:8080/"
        },
        "id": "MZdan-zWR9w4",
        "outputId": "eb74bd36-9007-4c48-be83-9b73aabfc5a7"
      },
      "execution_count": 29,
      "outputs": [
        {
          "output_type": "stream",
          "name": "stdout",
          "text": [
            "204.2\n"
          ]
        }
      ]
    },
    {
      "cell_type": "code",
      "source": [
        "Mediana_tratamiento=Kmf_tratamiento.median_survival_time_\n",
        "print(Mediana_tratamiento)"
      ],
      "metadata": {
        "colab": {
          "base_uri": "https://localhost:8080/"
        },
        "id": "OMAGzRFIZpdc",
        "outputId": "139d6f88-4c76-45a5-e087-3378c0d9da33"
      },
      "execution_count": 30,
      "outputs": [
        {
          "output_type": "stream",
          "name": "stdout",
          "text": [
            "156.33333330000002\n"
          ]
        }
      ]
    },
    {
      "cell_type": "code",
      "source": [
        "Intervalos_Confianza_Funcion_Supervivencia_Control=kmf_control.confidence_interval_survival_function_\n",
        "Intervalos_Confianza_Funcion_Supervivencia_Tratamiento=Kmf_tratamiento.confidence_interval_survival_function_"
      ],
      "metadata": {
        "id": "jB97FCQMZxs6"
      },
      "execution_count": 31,
      "outputs": []
    },
    {
      "cell_type": "code",
      "source": [
        "Intervalos_Confianza_Funcion_Supervivencia_Tratamiento.head(2)"
      ],
      "metadata": {
        "colab": {
          "base_uri": "https://localhost:8080/",
          "height": 112
        },
        "id": "6PzuODxTZ6Ea",
        "outputId": "331ae3fd-0f6f-4fc5-b961-ea7dccbe570d"
      },
      "execution_count": 32,
      "outputs": [
        {
          "output_type": "execute_result",
          "data": {
            "text/plain": [
              "     KM_estimate_lower_0.95  KM_estimate_upper_0.95\n",
              "0.0                     1.0                     1.0\n",
              "2.0                     1.0                     1.0"
            ],
            "text/html": [
              "\n",
              "  <div id=\"df-81985fb3-6089-4351-b185-28f853f7cb21\">\n",
              "    <div class=\"colab-df-container\">\n",
              "      <div>\n",
              "<style scoped>\n",
              "    .dataframe tbody tr th:only-of-type {\n",
              "        vertical-align: middle;\n",
              "    }\n",
              "\n",
              "    .dataframe tbody tr th {\n",
              "        vertical-align: top;\n",
              "    }\n",
              "\n",
              "    .dataframe thead th {\n",
              "        text-align: right;\n",
              "    }\n",
              "</style>\n",
              "<table border=\"1\" class=\"dataframe\">\n",
              "  <thead>\n",
              "    <tr style=\"text-align: right;\">\n",
              "      <th></th>\n",
              "      <th>KM_estimate_lower_0.95</th>\n",
              "      <th>KM_estimate_upper_0.95</th>\n",
              "    </tr>\n",
              "  </thead>\n",
              "  <tbody>\n",
              "    <tr>\n",
              "      <th>0.0</th>\n",
              "      <td>1.0</td>\n",
              "      <td>1.0</td>\n",
              "    </tr>\n",
              "    <tr>\n",
              "      <th>2.0</th>\n",
              "      <td>1.0</td>\n",
              "      <td>1.0</td>\n",
              "    </tr>\n",
              "  </tbody>\n",
              "</table>\n",
              "</div>\n",
              "      <button class=\"colab-df-convert\" onclick=\"convertToInteractive('df-81985fb3-6089-4351-b185-28f853f7cb21')\"\n",
              "              title=\"Convert this dataframe to an interactive table.\"\n",
              "              style=\"display:none;\">\n",
              "        \n",
              "  <svg xmlns=\"http://www.w3.org/2000/svg\" height=\"24px\"viewBox=\"0 0 24 24\"\n",
              "       width=\"24px\">\n",
              "    <path d=\"M0 0h24v24H0V0z\" fill=\"none\"/>\n",
              "    <path d=\"M18.56 5.44l.94 2.06.94-2.06 2.06-.94-2.06-.94-.94-2.06-.94 2.06-2.06.94zm-11 1L8.5 8.5l.94-2.06 2.06-.94-2.06-.94L8.5 2.5l-.94 2.06-2.06.94zm10 10l.94 2.06.94-2.06 2.06-.94-2.06-.94-.94-2.06-.94 2.06-2.06.94z\"/><path d=\"M17.41 7.96l-1.37-1.37c-.4-.4-.92-.59-1.43-.59-.52 0-1.04.2-1.43.59L10.3 9.45l-7.72 7.72c-.78.78-.78 2.05 0 2.83L4 21.41c.39.39.9.59 1.41.59.51 0 1.02-.2 1.41-.59l7.78-7.78 2.81-2.81c.8-.78.8-2.07 0-2.86zM5.41 20L4 18.59l7.72-7.72 1.47 1.35L5.41 20z\"/>\n",
              "  </svg>\n",
              "      </button>\n",
              "      \n",
              "  <style>\n",
              "    .colab-df-container {\n",
              "      display:flex;\n",
              "      flex-wrap:wrap;\n",
              "      gap: 12px;\n",
              "    }\n",
              "\n",
              "    .colab-df-convert {\n",
              "      background-color: #E8F0FE;\n",
              "      border: none;\n",
              "      border-radius: 50%;\n",
              "      cursor: pointer;\n",
              "      display: none;\n",
              "      fill: #1967D2;\n",
              "      height: 32px;\n",
              "      padding: 0 0 0 0;\n",
              "      width: 32px;\n",
              "    }\n",
              "\n",
              "    .colab-df-convert:hover {\n",
              "      background-color: #E2EBFA;\n",
              "      box-shadow: 0px 1px 2px rgba(60, 64, 67, 0.3), 0px 1px 3px 1px rgba(60, 64, 67, 0.15);\n",
              "      fill: #174EA6;\n",
              "    }\n",
              "\n",
              "    [theme=dark] .colab-df-convert {\n",
              "      background-color: #3B4455;\n",
              "      fill: #D2E3FC;\n",
              "    }\n",
              "\n",
              "    [theme=dark] .colab-df-convert:hover {\n",
              "      background-color: #434B5C;\n",
              "      box-shadow: 0px 1px 3px 1px rgba(0, 0, 0, 0.15);\n",
              "      filter: drop-shadow(0px 1px 2px rgba(0, 0, 0, 0.3));\n",
              "      fill: #FFFFFF;\n",
              "    }\n",
              "  </style>\n",
              "\n",
              "      <script>\n",
              "        const buttonEl =\n",
              "          document.querySelector('#df-81985fb3-6089-4351-b185-28f853f7cb21 button.colab-df-convert');\n",
              "        buttonEl.style.display =\n",
              "          google.colab.kernel.accessAllowed ? 'block' : 'none';\n",
              "\n",
              "        async function convertToInteractive(key) {\n",
              "          const element = document.querySelector('#df-81985fb3-6089-4351-b185-28f853f7cb21');\n",
              "          const dataTable =\n",
              "            await google.colab.kernel.invokeFunction('convertToInteractive',\n",
              "                                                     [key], {});\n",
              "          if (!dataTable) return;\n",
              "\n",
              "          const docLinkHtml = 'Like what you see? Visit the ' +\n",
              "            '<a target=\"_blank\" href=https://colab.research.google.com/notebooks/data_table.ipynb>data table notebook</a>'\n",
              "            + ' to learn more about interactive tables.';\n",
              "          element.innerHTML = '';\n",
              "          dataTable['output_type'] = 'display_data';\n",
              "          await google.colab.output.renderOutput(dataTable, element);\n",
              "          const docLink = document.createElement('div');\n",
              "          docLink.innerHTML = docLinkHtml;\n",
              "          element.appendChild(docLink);\n",
              "        }\n",
              "      </script>\n",
              "    </div>\n",
              "  </div>\n",
              "  "
            ]
          },
          "metadata": {},
          "execution_count": 32
        }
      ]
    },
    {
      "cell_type": "code",
      "source": [
        "Intervalos_Confianza_Funcion_Supervivencia_Control.head(3)"
      ],
      "metadata": {
        "colab": {
          "base_uri": "https://localhost:8080/",
          "height": 143
        },
        "id": "bWBBe2-yZ9aa",
        "outputId": "40394ba3-2359-47c2-aee3-15331339c746"
      },
      "execution_count": 33,
      "outputs": [
        {
          "output_type": "execute_result",
          "data": {
            "text/plain": [
              "          KM_estimate_lower_0.95  KM_estimate_upper_0.95\n",
              "0.000000                1.000000                1.000000\n",
              "7.866667                0.982211                0.999644\n",
              "8.066667                0.979958                0.998734"
            ],
            "text/html": [
              "\n",
              "  <div id=\"df-b0ff015d-3c4f-422c-a94d-8a5b595ebf08\">\n",
              "    <div class=\"colab-df-container\">\n",
              "      <div>\n",
              "<style scoped>\n",
              "    .dataframe tbody tr th:only-of-type {\n",
              "        vertical-align: middle;\n",
              "    }\n",
              "\n",
              "    .dataframe tbody tr th {\n",
              "        vertical-align: top;\n",
              "    }\n",
              "\n",
              "    .dataframe thead th {\n",
              "        text-align: right;\n",
              "    }\n",
              "</style>\n",
              "<table border=\"1\" class=\"dataframe\">\n",
              "  <thead>\n",
              "    <tr style=\"text-align: right;\">\n",
              "      <th></th>\n",
              "      <th>KM_estimate_lower_0.95</th>\n",
              "      <th>KM_estimate_upper_0.95</th>\n",
              "    </tr>\n",
              "  </thead>\n",
              "  <tbody>\n",
              "    <tr>\n",
              "      <th>0.000000</th>\n",
              "      <td>1.000000</td>\n",
              "      <td>1.000000</td>\n",
              "    </tr>\n",
              "    <tr>\n",
              "      <th>7.866667</th>\n",
              "      <td>0.982211</td>\n",
              "      <td>0.999644</td>\n",
              "    </tr>\n",
              "    <tr>\n",
              "      <th>8.066667</th>\n",
              "      <td>0.979958</td>\n",
              "      <td>0.998734</td>\n",
              "    </tr>\n",
              "  </tbody>\n",
              "</table>\n",
              "</div>\n",
              "      <button class=\"colab-df-convert\" onclick=\"convertToInteractive('df-b0ff015d-3c4f-422c-a94d-8a5b595ebf08')\"\n",
              "              title=\"Convert this dataframe to an interactive table.\"\n",
              "              style=\"display:none;\">\n",
              "        \n",
              "  <svg xmlns=\"http://www.w3.org/2000/svg\" height=\"24px\"viewBox=\"0 0 24 24\"\n",
              "       width=\"24px\">\n",
              "    <path d=\"M0 0h24v24H0V0z\" fill=\"none\"/>\n",
              "    <path d=\"M18.56 5.44l.94 2.06.94-2.06 2.06-.94-2.06-.94-.94-2.06-.94 2.06-2.06.94zm-11 1L8.5 8.5l.94-2.06 2.06-.94-2.06-.94L8.5 2.5l-.94 2.06-2.06.94zm10 10l.94 2.06.94-2.06 2.06-.94-2.06-.94-.94-2.06-.94 2.06-2.06.94z\"/><path d=\"M17.41 7.96l-1.37-1.37c-.4-.4-.92-.59-1.43-.59-.52 0-1.04.2-1.43.59L10.3 9.45l-7.72 7.72c-.78.78-.78 2.05 0 2.83L4 21.41c.39.39.9.59 1.41.59.51 0 1.02-.2 1.41-.59l7.78-7.78 2.81-2.81c.8-.78.8-2.07 0-2.86zM5.41 20L4 18.59l7.72-7.72 1.47 1.35L5.41 20z\"/>\n",
              "  </svg>\n",
              "      </button>\n",
              "      \n",
              "  <style>\n",
              "    .colab-df-container {\n",
              "      display:flex;\n",
              "      flex-wrap:wrap;\n",
              "      gap: 12px;\n",
              "    }\n",
              "\n",
              "    .colab-df-convert {\n",
              "      background-color: #E8F0FE;\n",
              "      border: none;\n",
              "      border-radius: 50%;\n",
              "      cursor: pointer;\n",
              "      display: none;\n",
              "      fill: #1967D2;\n",
              "      height: 32px;\n",
              "      padding: 0 0 0 0;\n",
              "      width: 32px;\n",
              "    }\n",
              "\n",
              "    .colab-df-convert:hover {\n",
              "      background-color: #E2EBFA;\n",
              "      box-shadow: 0px 1px 2px rgba(60, 64, 67, 0.3), 0px 1px 3px 1px rgba(60, 64, 67, 0.15);\n",
              "      fill: #174EA6;\n",
              "    }\n",
              "\n",
              "    [theme=dark] .colab-df-convert {\n",
              "      background-color: #3B4455;\n",
              "      fill: #D2E3FC;\n",
              "    }\n",
              "\n",
              "    [theme=dark] .colab-df-convert:hover {\n",
              "      background-color: #434B5C;\n",
              "      box-shadow: 0px 1px 3px 1px rgba(0, 0, 0, 0.15);\n",
              "      filter: drop-shadow(0px 1px 2px rgba(0, 0, 0, 0.3));\n",
              "      fill: #FFFFFF;\n",
              "    }\n",
              "  </style>\n",
              "\n",
              "      <script>\n",
              "        const buttonEl =\n",
              "          document.querySelector('#df-b0ff015d-3c4f-422c-a94d-8a5b595ebf08 button.colab-df-convert');\n",
              "        buttonEl.style.display =\n",
              "          google.colab.kernel.accessAllowed ? 'block' : 'none';\n",
              "\n",
              "        async function convertToInteractive(key) {\n",
              "          const element = document.querySelector('#df-b0ff015d-3c4f-422c-a94d-8a5b595ebf08');\n",
              "          const dataTable =\n",
              "            await google.colab.kernel.invokeFunction('convertToInteractive',\n",
              "                                                     [key], {});\n",
              "          if (!dataTable) return;\n",
              "\n",
              "          const docLinkHtml = 'Like what you see? Visit the ' +\n",
              "            '<a target=\"_blank\" href=https://colab.research.google.com/notebooks/data_table.ipynb>data table notebook</a>'\n",
              "            + ' to learn more about interactive tables.';\n",
              "          element.innerHTML = '';\n",
              "          dataTable['output_type'] = 'display_data';\n",
              "          await google.colab.output.renderOutput(dataTable, element);\n",
              "          const docLink = document.createElement('div');\n",
              "          docLink.innerHTML = docLinkHtml;\n",
              "          element.appendChild(docLink);\n",
              "        }\n",
              "      </script>\n",
              "    </div>\n",
              "  </div>\n",
              "  "
            ]
          },
          "metadata": {},
          "execution_count": 33
        }
      ]
    },
    {
      "cell_type": "code",
      "source": [
        "#Grafica Control"
      ],
      "metadata": {
        "id": "1lJLmVVbaAbR"
      },
      "execution_count": 34,
      "outputs": []
    },
    {
      "cell_type": "code",
      "source": [
        "plt.figure(figsize=(8,8))\n",
        "kmf_control.plot(label=\"Mediana= \" + str(Mediana_Control))\n",
        "plt.plot(Intervalos_Confianza_Funcion_Supervivencia_Control[\"KM_estimate_lower_0.95\"],label=\"Inferior al 95%\")\n",
        "plt.plot(Intervalos_Confianza_Funcion_Supervivencia_Control[\"KM_estimate_upper_0.95\"],label=\"Superior al 95%\")\n",
        "plt.title(\"Funcion de Supervivencia de la Poblacion Control\")\n",
        "plt.xlabel(\"Numero de Dias\")\n",
        "plt.ylabel(\"Probabilidad Supervivencia\")\n",
        "plt.show()"
      ],
      "metadata": {
        "colab": {
          "base_uri": "https://localhost:8080/",
          "height": 513
        },
        "id": "jr5-DG2MaGTZ",
        "outputId": "2b12a91c-fb0d-4dcf-84f5-260555aaac40"
      },
      "execution_count": 35,
      "outputs": [
        {
          "output_type": "display_data",
          "data": {
            "text/plain": [
              "<Figure size 576x576 with 1 Axes>"
            ],
            "image/png": "[encoded data removed]"
          },
          "metadata": {
            "needs_background": "light"
          }
        }
      ]
    },
    {
      "cell_type": "code",
      "source": [
        "plt.figure(figsize=(8,8))\n",
        "Kmf_tratamiento.plot(label=\"Mediana= \" + str(Mediana_tratamiento))\n",
        "plt.plot(Intervalos_Confianza_Funcion_Supervivencia_Tratamiento[\"KM_estimate_lower_0.95\"],label=\"Inferior al 95%\")\n",
        "plt.plot(Intervalos_Confianza_Funcion_Supervivencia_Tratamiento[\"KM_estimate_upper_0.95\"],label=\"Superior al 95%\")\n",
        "plt.title(\"Funcion de Supervivencia de la Poblacion Control\")\n",
        "plt.xlabel(\"Número de Meses\")\n",
        "plt.ylabel(\"Probabilidad Supervivencia\")\n",
        "plt.show()"
      ],
      "metadata": {
        "colab": {
          "base_uri": "https://localhost:8080/",
          "height": 513
        },
        "id": "mz-Z46BTaH6p",
        "outputId": "591ccff1-fb98-4761-9b67-5771459db4df"
      },
      "execution_count": 36,
      "outputs": [
        {
          "output_type": "display_data",
          "data": {
            "text/plain": [
              "<Figure size 576x576 with 1 Axes>"
            ],
            "image/png": "[encoded data removed]"
          },
          "metadata": {
            "needs_background": "light"
          }
        }
      ]
    },
    {
      "cell_type": "code",
      "source": [
        "from lifelines.plotting import add_at_risk_counts\n",
        "from lifelines.statistics import logrank_test"
      ],
      "metadata": {
        "id": "vIZYS7pHaRtz"
      },
      "execution_count": 37,
      "outputs": []
    },
    {
      "cell_type": "code",
      "source": [
        "fig = plt.figure(figsize=(10,10))\n",
        "ax = plt.subplot(111)\n",
        "f1=kmf_control.fit(durations=control.overall_survival_months,event_observed=control[\"E\"])\n",
        "f1.plot(ax=ax)\n",
        "f2=Kmf_tratamiento.fit(durations=tratamiento.overall_survival_months,event_observed=tratamiento[\"E\"])\n",
        "f2.plot(ax=ax)\n",
        "plt.xlabel(\"Número de Meses\",fontsize=20)\n",
        "plt.ylabel(\"Probabilidad de Supervivencia\",fontsize=20)\n",
        "plt.legend([\"Grupo Control\",\"Grupo tratamiento\"])\n",
        "plt.title(\"Función de Supervivencia de la Poblacion Control y tratamiento\",fontsize=20)\n",
        "plt.xticks(fontsize=16)\n",
        "plt.yticks(fontsize=16)\n",
        "add_at_risk_counts(f1,f2,rows_to_show=['At risk'])\n",
        "plt.tight_layout()"
      ],
      "metadata": {
        "colab": {
          "base_uri": "https://localhost:8080/",
          "height": 823
        },
        "id": "G7_6r_YbaVDs",
        "outputId": "97908992-7286-4150-f049-d40d4ee7efab"
      },
      "execution_count": 38,
      "outputs": [
        {
          "output_type": "stream",
          "name": "stderr",
          "text": [
            "/usr/local/lib/python3.7/dist-packages/lifelines/utils/__init__.py:1188: UserWarning: Attempting to convert an unexpected datatype 'object' to float. Suggestion: 1) use `lifelines.utils.datetimes_to_durations` to do conversions or 2) manually convert to floats/booleans.\n",
            "  warnings.warn(warning_text, UserWarning)\n",
            "/usr/local/lib/python3.7/dist-packages/lifelines/utils/__init__.py:1188: UserWarning: Attempting to convert an unexpected datatype 'object' to float. Suggestion: 1) use `lifelines.utils.datetimes_to_durations` to do conversions or 2) manually convert to floats/booleans.\n",
            "  warnings.warn(warning_text, UserWarning)\n"
          ]
        },
        {
          "output_type": "display_data",
          "data": {
            "text/plain": [
              "<Figure size 720x720 with 2 Axes>"
            ],
            "image/png": "[encoded data removed]"
          },
          "metadata": {
            "needs_background": "light"
          }
        }
      ]
    },
    {
      "cell_type": "markdown",
      "source": [
        "**Test Estadistico**"
      ],
      "metadata": {
        "id": "J96TXc-va1ar"
      }
    },
    {
      "cell_type": "code",
      "source": [
        "logrank_test(control.overall_survival_months,tratamiento.overall_survival_months,\n",
        "             event_observed_A=control[\"E\"],event_observed_B=tratamiento[\"E\"])"
      ],
      "metadata": {
        "id": "eeqycE6Lam8A",
        "colab": {
          "base_uri": "https://localhost:8080/",
          "height": 206
        },
        "outputId": "b869a42b-6faa-4f73-f5eb-c1d405734109"
      },
      "execution_count": 39,
      "outputs": [
        {
          "output_type": "execute_result",
          "data": {
            "text/plain": [
              "<lifelines.StatisticalResult: logrank_test>\n",
              "               t_0 = -1\n",
              " null_distribution = chi squared\n",
              "degrees_of_freedom = 1\n",
              "         test_name = logrank_test\n",
              "\n",
              "---\n",
              " test_statistic    p  -log2(p)\n",
              "           7.66 0.01      7.47"
            ],
            "text/html": [
              "<div>\n",
              "<style scoped>\n",
              "    .dataframe tbody tr th:only-of-type {\n",
              "        vertical-align: middle;\n",
              "    }\n",
              "\n",
              "    .dataframe tbody tr th {\n",
              "        vertical-align: top;\n",
              "    }\n",
              "\n",
              "    .dataframe thead th {\n",
              "        text-align: right;\n",
              "    }\n",
              "</style>\n",
              "<table border=\"1\" class=\"dataframe\">\n",
              "  <tbody>\n",
              "    <tr>\n",
              "      <th>t_0</th>\n",
              "      <td>-1</td>\n",
              "    </tr>\n",
              "    <tr>\n",
              "      <th>null_distribution</th>\n",
              "      <td>chi squared</td>\n",
              "    </tr>\n",
              "    <tr>\n",
              "      <th>degrees_of_freedom</th>\n",
              "      <td>1</td>\n",
              "    </tr>\n",
              "    <tr>\n",
              "      <th>test_name</th>\n",
              "      <td>logrank_test</td>\n",
              "    </tr>\n",
              "  </tbody>\n",
              "</table>\n",
              "</div><table border=\"1\" class=\"dataframe\">\n",
              "  <thead>\n",
              "    <tr style=\"text-align: right;\">\n",
              "      <th></th>\n",
              "      <th>test_statistic</th>\n",
              "      <th>p</th>\n",
              "      <th>-log2(p)</th>\n",
              "    </tr>\n",
              "  </thead>\n",
              "  <tbody>\n",
              "    <tr>\n",
              "      <th>0</th>\n",
              "      <td>7.66</td>\n",
              "      <td>0.01</td>\n",
              "      <td>7.47</td>\n",
              "    </tr>\n",
              "  </tbody>\n",
              "</table>"
            ],
            "text/latex": "\\begin{tabular}{lrrr}\n\\toprule\n{} &  test\\_statistic &         p &  -log2(p) \\\\\n\\midrule\n0 &        7.662811 &  0.005637 &  7.470841 \\\\\n\\bottomrule\n\\end{tabular}\n"
          },
          "metadata": {},
          "execution_count": 39
        }
      ]
    },
    {
      "cell_type": "markdown",
      "source": [
        "* H0: las probabilidades de supervivencia de los dos Grupos son Iguales\n",
        "* Ha: las probabilidades de supervivencia de los dos Grupos son Diferentes\n",
        "\n",
        "* Si el P valor < 0.05, Se rechaza H0\n",
        "\n",
        "Conclusión las probailidades de supervivencia de los dos grupos de Muestras son iguales, el número de dias mediano de supervivencia del Grupo control es de 204 meses, mientras que el numero de dias mediano de supervivencia del Grupo con tratamiento hormonal es 156 meses. esto se demuestró estadisticamente\n"
      ],
      "metadata": {
        "id": "oJNSIGYEbCOt"
      }
    }
  ]
}