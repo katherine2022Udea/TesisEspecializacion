{
  "nbformat": 4,
  "nbformat_minor": 0,
  "metadata": {
    "colab": {
      "name": "2)AnalisisTiempoSupervivencia.ipynb",
      "provenance": [],
      "collapsed_sections": [],
      "authorship_tag": "ABX9TyPkh/bu8ss66j6RF0RohuJE",
      "include_colab_link": true
    },
    "kernelspec": {
      "name": "python3",
      "display_name": "Python 3"
    },
    "language_info": {
      "name": "python"
    }
  },
  "cells": [
    {
      "cell_type": "markdown",
      "metadata": {
        "id": "view-in-github",
        "colab_type": "text"
      },
      "source": [
        "<a href=\"https://colab.research.google.com/github/katherine2022Udea/TesisEspecializacion/blob/main/2)AnalisisTiempoSupervivencia.ipynb\" target=\"_parent\"><img src=\"https://colab.research.google.com/assets/colab-badge.svg\" alt=\"Open In Colab\"/></a>"
      ]
    },
    {
      "cell_type": "markdown",
      "source": [
        "# 1) **Contexto del Problema**\n",
        "\n",
        "La mayoría de nosotros conoce a alguien que luchó contra el cáncer de mama, o al menos escuchó sobre las luchas que enfrentan los pacientes que luchan contra el cáncer de mama. El cáncer de mama es el cáncer más frecuente entre las mujeres y afecta a 2,1 millones de mujeres cada año. El cáncer de mama causa el mayor número de muertes relacionadas con el cáncer entre las mujeres. Solo en 2018, se estima que 627.000 mujeres murieron de cáncer de mama.\n",
        "\n",
        "La parte más importante de un proceso de toma de decisiones clínicas en pacientes con cáncer, en general, es la estimación precisa del pronóstico y la duración de la supervivencia. Las pacientes con cáncer de mama con la misma etapa de la enfermedad y las mismas características clínicas pueden tener diferentes respuestas al tratamiento y supervivencia general, pero ¿por qué?\n",
        "\n",
        "Los cánceres están asociados con anomalías genéticas. La expresión genética mide el nivel de actividad genética en un tejido y proporciona información sobre sus actividades complejas. La comparación de los genes expresados ​​en tejido normal y enfermo puede aportar una mejor comprensión del pronóstico y los resultados del cáncer. El uso de técnicas de aprendizaje automático en datos genéticos tiene el potencial de proporcionar la estimación correcta del tiempo de supervivencia y puede evitar procedimientos quirúrgicos y de tratamiento innecesarios.\n",
        "\n",
        "Objetivo:\n",
        "\n",
        "*Predecir la supervivencia del cáncer de mama utilizando modelos de aprendizaje automático con datos clínicos y perfiles de expresión génica.\n",
        "Agrupación de genes*\n",
        "\n",
        "https://www.kaggle.com/raghadalharbi/breast-cancer-gene-expression-profiles-metabric"
      ],
      "metadata": {
        "id": "A0AjxhpHE7a8"
      }
    },
    {
      "cell_type": "code",
      "source": [
        "import numpy as np # Matemetias y Matrices\n",
        "import pandas as pd # para BD\n",
        "import matplotlib.pyplot as plt # Graficas\n",
        "import seaborn as sns # Graficas estadisticas\n",
        "from scipy.stats import shapiro # Pruebas Estadisticas\n",
        "from scipy.stats import chi2_contingency # Pruebas de Independencia para Tablas de contingencia\n",
        "from scipy import stats\n",
        "### Modelación de Machine Learning\n",
        "from sklearn.model_selection import train_test_split # Para dividir nuesntra BD en entrenamiento y Test\n",
        "import statsmodels.api as sm\n",
        "from scipy.stats import normaltest"
      ],
      "metadata": {
        "id": "6L3ilTgiE8eD"
      },
      "execution_count": null,
      "outputs": []
    },
    {
      "cell_type": "code",
      "source": [
        "!pip install lifelines\n",
        "from lifelines import KaplanMeierFitter"
      ],
      "metadata": {
        "id": "w6YIbkZdFF57",
        "colab": {
          "base_uri": "https://localhost:8080/"
        },
        "outputId": "b8f082f9-be73-422d-a17f-5530fb11cef1"
      },
      "execution_count": null,
      "outputs": [
        {
          "output_type": "stream",
          "name": "stdout",
          "text": [
            "Requirement already satisfied: lifelines in /usr/local/lib/python3.7/dist-packages (0.27.0)\n",
            "Requirement already satisfied: numpy>=1.14.0 in /usr/local/lib/python3.7/dist-packages (from lifelines) (1.21.5)\n",
            "Requirement already satisfied: autograd>=1.3 in /usr/local/lib/python3.7/dist-packages (from lifelines) (1.3)\n",
            "Requirement already satisfied: formulaic>=0.2.2 in /usr/local/lib/python3.7/dist-packages (from lifelines) (0.3.2)\n",
            "Requirement already satisfied: matplotlib>=3.0 in /usr/local/lib/python3.7/dist-packages (from lifelines) (3.2.2)\n",
            "Requirement already satisfied: pandas>=1.0.0 in /usr/local/lib/python3.7/dist-packages (from lifelines) (1.3.5)\n",
            "Requirement already satisfied: autograd-gamma>=0.3 in /usr/local/lib/python3.7/dist-packages (from lifelines) (0.5.0)\n",
            "Requirement already satisfied: scipy>=1.2.0 in /usr/local/lib/python3.7/dist-packages (from lifelines) (1.7.3)\n",
            "Requirement already satisfied: future>=0.15.2 in /usr/local/lib/python3.7/dist-packages (from autograd>=1.3->lifelines) (0.16.0)\n",
            "Requirement already satisfied: astor>=0.7.0 in /usr/local/lib/python3.7/dist-packages (from formulaic>=0.2.2->lifelines) (0.8.1)\n",
            "Requirement already satisfied: interface-meta>=1.2 in /usr/local/lib/python3.7/dist-packages (from formulaic>=0.2.2->lifelines) (1.2.5)\n",
            "Requirement already satisfied: wrapt>=1.0 in /usr/local/lib/python3.7/dist-packages (from formulaic>=0.2.2->lifelines) (1.14.0)\n",
            "Requirement already satisfied: cycler>=0.10 in /usr/local/lib/python3.7/dist-packages (from matplotlib>=3.0->lifelines) (0.11.0)\n",
            "Requirement already satisfied: kiwisolver>=1.0.1 in /usr/local/lib/python3.7/dist-packages (from matplotlib>=3.0->lifelines) (1.4.0)\n",
            "Requirement already satisfied: python-dateutil>=2.1 in /usr/local/lib/python3.7/dist-packages (from matplotlib>=3.0->lifelines) (2.8.2)\n",
            "Requirement already satisfied: pyparsing!=2.0.4,!=2.1.2,!=2.1.6,>=2.0.1 in /usr/local/lib/python3.7/dist-packages (from matplotlib>=3.0->lifelines) (3.0.7)\n",
            "Requirement already satisfied: typing-extensions in /usr/local/lib/python3.7/dist-packages (from kiwisolver>=1.0.1->matplotlib>=3.0->lifelines) (3.10.0.2)\n",
            "Requirement already satisfied: pytz>=2017.3 in /usr/local/lib/python3.7/dist-packages (from pandas>=1.0.0->lifelines) (2018.9)\n",
            "Requirement already satisfied: six>=1.5 in /usr/local/lib/python3.7/dist-packages (from python-dateutil>=2.1->matplotlib>=3.0->lifelines) (1.15.0)\n"
          ]
        }
      ]
    },
    {
      "cell_type": "code",
      "source": [
        "url='https://raw.githubusercontent.com/katherine2022Udea/TesisEspecializacion/main/METABRIC_RNA_Mutation.csv'\n",
        "df=pd.read_csv(url)"
      ],
      "metadata": {
        "colab": {
          "base_uri": "https://localhost:8080/"
        },
        "id": "B057aazxFJQi",
        "outputId": "89052d69-feed-4c44-d7f5-cafac22911ce"
      },
      "execution_count": null,
      "outputs": [
        {
          "output_type": "stream",
          "name": "stderr",
          "text": [
            "/usr/local/lib/python3.7/dist-packages/IPython/core/interactiveshell.py:2882: DtypeWarning: Columns (678,688,690,692) have mixed types.Specify dtype option on import or set low_memory=False.\n",
            "  exec(code_obj, self.user_global_ns, self.user_ns)\n"
          ]
        }
      ]
    },
    {
      "cell_type": "code",
      "source": [
        "pd.set_option('display.max_rows', 500)\n",
        "pd.set_option('display.max_columns', 500)"
      ],
      "metadata": {
        "id": "jpdRj7YsFfic"
      },
      "execution_count": null,
      "outputs": []
    },
    {
      "cell_type": "code",
      "source": [
        "df=df.iloc[:,0:31]"
      ],
      "metadata": {
        "id": "ooH8kUUFFksE"
      },
      "execution_count": null,
      "outputs": []
    },
    {
      "cell_type": "code",
      "source": [
        "df.head(5)"
      ],
      "metadata": {
        "colab": {
          "base_uri": "https://localhost:8080/",
          "height": 374
        },
        "id": "PJi0t7cJFX7j",
        "outputId": "5122046c-829d-4249-d3e6-12d234089e60"
      },
      "execution_count": null,
      "outputs": [
        {
          "output_type": "execute_result",
          "data": {
            "text/plain": [
              "   patient_id  age_at_diagnosis type_of_breast_surgery    cancer_type  \\\n",
              "0           0             75.65             MASTECTOMY  Breast Cancer   \n",
              "1           2             43.19      BREAST CONSERVING  Breast Cancer   \n",
              "2           5             48.87             MASTECTOMY  Breast Cancer   \n",
              "3           6             47.68             MASTECTOMY  Breast Cancer   \n",
              "4           8             76.97             MASTECTOMY  Breast Cancer   \n",
              "\n",
              "                        cancer_type_detailed cellularity  chemotherapy  \\\n",
              "0           Breast Invasive Ductal Carcinoma         NaN             0   \n",
              "1           Breast Invasive Ductal Carcinoma        High             0   \n",
              "2           Breast Invasive Ductal Carcinoma        High             1   \n",
              "3  Breast Mixed Ductal and Lobular Carcinoma    Moderate             1   \n",
              "4  Breast Mixed Ductal and Lobular Carcinoma        High             1   \n",
              "\n",
              "  pam50_+_claudin-low_subtype  cohort er_status_measured_by_ihc er_status  \\\n",
              "0                 claudin-low     1.0                   Positve  Positive   \n",
              "1                        LumA     1.0                   Positve  Positive   \n",
              "2                        LumB     1.0                   Positve  Positive   \n",
              "3                        LumB     1.0                   Positve  Positive   \n",
              "4                        LumB     1.0                   Positve  Positive   \n",
              "\n",
              "   neoplasm_histologic_grade her2_status_measured_by_snp6 her2_status  \\\n",
              "0                        3.0                      NEUTRAL    Negative   \n",
              "1                        3.0                      NEUTRAL    Negative   \n",
              "2                        2.0                      NEUTRAL    Negative   \n",
              "3                        2.0                      NEUTRAL    Negative   \n",
              "4                        3.0                      NEUTRAL    Negative   \n",
              "\n",
              "  tumor_other_histologic_subtype  hormone_therapy inferred_menopausal_state  \\\n",
              "0                     Ductal/NST                1                      Post   \n",
              "1                     Ductal/NST                1                       Pre   \n",
              "2                     Ductal/NST                1                       Pre   \n",
              "3                          Mixed                1                       Pre   \n",
              "4                          Mixed                1                      Post   \n",
              "\n",
              "  integrative_cluster primary_tumor_laterality  lymph_nodes_examined_positive  \\\n",
              "0                4ER+                    Right                           10.0   \n",
              "1                4ER+                    Right                            0.0   \n",
              "2                   3                    Right                            1.0   \n",
              "3                   9                    Right                            3.0   \n",
              "4                   9                    Right                            8.0   \n",
              "\n",
              "   mutation_count  nottingham_prognostic_index oncotree_code  \\\n",
              "0             NaN                        6.044           IDC   \n",
              "1             2.0                        4.020           IDC   \n",
              "2             2.0                        4.030           IDC   \n",
              "3             1.0                        4.050          MDLC   \n",
              "4             2.0                        6.080          MDLC   \n",
              "\n",
              "   overall_survival_months  overall_survival pr_status  radio_therapy  \\\n",
              "0               140.500000                 1  Negative              1   \n",
              "1                84.633333                 1  Positive              1   \n",
              "2               163.700000                 0  Positive              0   \n",
              "3               164.933333                 1  Positive              1   \n",
              "4                41.366667                 0  Positive              1   \n",
              "\n",
              "  3-gene_classifier_subtype  tumor_size  tumor_stage death_from_cancer  \n",
              "0                 ER-/HER2-        22.0          2.0            Living  \n",
              "1     ER+/HER2- High Prolif        10.0          1.0            Living  \n",
              "2                       NaN        15.0          2.0   Died of Disease  \n",
              "3                       NaN        25.0          2.0            Living  \n",
              "4     ER+/HER2- High Prolif        40.0          2.0   Died of Disease  "
            ],
            "text/html": [
              "\n",
              "  <div id=\"df-687a5e37-9bd4-4423-b79d-ef5db4db00ab\">\n",
              "    <div class=\"colab-df-container\">\n",
              "      <div>\n",
              "<style scoped>\n",
              "    .dataframe tbody tr th:only-of-type {\n",
              "        vertical-align: middle;\n",
              "    }\n",
              "\n",
              "    .dataframe tbody tr th {\n",
              "        vertical-align: top;\n",
              "    }\n",
              "\n",
              "    .dataframe thead th {\n",
              "        text-align: right;\n",
              "    }\n",
              "</style>\n",
              "<table border=\"1\" class=\"dataframe\">\n",
              "  <thead>\n",
              "    <tr style=\"text-align: right;\">\n",
              "      <th></th>\n",
              "      <th>patient_id</th>\n",
              "      <th>age_at_diagnosis</th>\n",
              "      <th>type_of_breast_surgery</th>\n",
              "      <th>cancer_type</th>\n",
              "      <th>cancer_type_detailed</th>\n",
              "      <th>cellularity</th>\n",
              "      <th>chemotherapy</th>\n",
              "      <th>pam50_+_claudin-low_subtype</th>\n",
              "      <th>cohort</th>\n",
              "      <th>er_status_measured_by_ihc</th>\n",
              "      <th>er_status</th>\n",
              "      <th>neoplasm_histologic_grade</th>\n",
              "      <th>her2_status_measured_by_snp6</th>\n",
              "      <th>her2_status</th>\n",
              "      <th>tumor_other_histologic_subtype</th>\n",
              "      <th>hormone_therapy</th>\n",
              "      <th>inferred_menopausal_state</th>\n",
              "      <th>integrative_cluster</th>\n",
              "      <th>primary_tumor_laterality</th>\n",
              "      <th>lymph_nodes_examined_positive</th>\n",
              "      <th>mutation_count</th>\n",
              "      <th>nottingham_prognostic_index</th>\n",
              "      <th>oncotree_code</th>\n",
              "      <th>overall_survival_months</th>\n",
              "      <th>overall_survival</th>\n",
              "      <th>pr_status</th>\n",
              "      <th>radio_therapy</th>\n",
              "      <th>3-gene_classifier_subtype</th>\n",
              "      <th>tumor_size</th>\n",
              "      <th>tumor_stage</th>\n",
              "      <th>death_from_cancer</th>\n",
              "    </tr>\n",
              "  </thead>\n",
              "  <tbody>\n",
              "    <tr>\n",
              "      <th>0</th>\n",
              "      <td>0</td>\n",
              "      <td>75.65</td>\n",
              "      <td>MASTECTOMY</td>\n",
              "      <td>Breast Cancer</td>\n",
              "      <td>Breast Invasive Ductal Carcinoma</td>\n",
              "      <td>NaN</td>\n",
              "      <td>0</td>\n",
              "      <td>claudin-low</td>\n",
              "      <td>1.0</td>\n",
              "      <td>Positve</td>\n",
              "      <td>Positive</td>\n",
              "      <td>3.0</td>\n",
              "      <td>NEUTRAL</td>\n",
              "      <td>Negative</td>\n",
              "      <td>Ductal/NST</td>\n",
              "      <td>1</td>\n",
              "      <td>Post</td>\n",
              "      <td>4ER+</td>\n",
              "      <td>Right</td>\n",
              "      <td>10.0</td>\n",
              "      <td>NaN</td>\n",
              "      <td>6.044</td>\n",
              "      <td>IDC</td>\n",
              "      <td>140.500000</td>\n",
              "      <td>1</td>\n",
              "      <td>Negative</td>\n",
              "      <td>1</td>\n",
              "      <td>ER-/HER2-</td>\n",
              "      <td>22.0</td>\n",
              "      <td>2.0</td>\n",
              "      <td>Living</td>\n",
              "    </tr>\n",
              "    <tr>\n",
              "      <th>1</th>\n",
              "      <td>2</td>\n",
              "      <td>43.19</td>\n",
              "      <td>BREAST CONSERVING</td>\n",
              "      <td>Breast Cancer</td>\n",
              "      <td>Breast Invasive Ductal Carcinoma</td>\n",
              "      <td>High</td>\n",
              "      <td>0</td>\n",
              "      <td>LumA</td>\n",
              "      <td>1.0</td>\n",
              "      <td>Positve</td>\n",
              "      <td>Positive</td>\n",
              "      <td>3.0</td>\n",
              "      <td>NEUTRAL</td>\n",
              "      <td>Negative</td>\n",
              "      <td>Ductal/NST</td>\n",
              "      <td>1</td>\n",
              "      <td>Pre</td>\n",
              "      <td>4ER+</td>\n",
              "      <td>Right</td>\n",
              "      <td>0.0</td>\n",
              "      <td>2.0</td>\n",
              "      <td>4.020</td>\n",
              "      <td>IDC</td>\n",
              "      <td>84.633333</td>\n",
              "      <td>1</td>\n",
              "      <td>Positive</td>\n",
              "      <td>1</td>\n",
              "      <td>ER+/HER2- High Prolif</td>\n",
              "      <td>10.0</td>\n",
              "      <td>1.0</td>\n",
              "      <td>Living</td>\n",
              "    </tr>\n",
              "    <tr>\n",
              "      <th>2</th>\n",
              "      <td>5</td>\n",
              "      <td>48.87</td>\n",
              "      <td>MASTECTOMY</td>\n",
              "      <td>Breast Cancer</td>\n",
              "      <td>Breast Invasive Ductal Carcinoma</td>\n",
              "      <td>High</td>\n",
              "      <td>1</td>\n",
              "      <td>LumB</td>\n",
              "      <td>1.0</td>\n",
              "      <td>Positve</td>\n",
              "      <td>Positive</td>\n",
              "      <td>2.0</td>\n",
              "      <td>NEUTRAL</td>\n",
              "      <td>Negative</td>\n",
              "      <td>Ductal/NST</td>\n",
              "      <td>1</td>\n",
              "      <td>Pre</td>\n",
              "      <td>3</td>\n",
              "      <td>Right</td>\n",
              "      <td>1.0</td>\n",
              "      <td>2.0</td>\n",
              "      <td>4.030</td>\n",
              "      <td>IDC</td>\n",
              "      <td>163.700000</td>\n",
              "      <td>0</td>\n",
              "      <td>Positive</td>\n",
              "      <td>0</td>\n",
              "      <td>NaN</td>\n",
              "      <td>15.0</td>\n",
              "      <td>2.0</td>\n",
              "      <td>Died of Disease</td>\n",
              "    </tr>\n",
              "    <tr>\n",
              "      <th>3</th>\n",
              "      <td>6</td>\n",
              "      <td>47.68</td>\n",
              "      <td>MASTECTOMY</td>\n",
              "      <td>Breast Cancer</td>\n",
              "      <td>Breast Mixed Ductal and Lobular Carcinoma</td>\n",
              "      <td>Moderate</td>\n",
              "      <td>1</td>\n",
              "      <td>LumB</td>\n",
              "      <td>1.0</td>\n",
              "      <td>Positve</td>\n",
              "      <td>Positive</td>\n",
              "      <td>2.0</td>\n",
              "      <td>NEUTRAL</td>\n",
              "      <td>Negative</td>\n",
              "      <td>Mixed</td>\n",
              "      <td>1</td>\n",
              "      <td>Pre</td>\n",
              "      <td>9</td>\n",
              "      <td>Right</td>\n",
              "      <td>3.0</td>\n",
              "      <td>1.0</td>\n",
              "      <td>4.050</td>\n",
              "      <td>MDLC</td>\n",
              "      <td>164.933333</td>\n",
              "      <td>1</td>\n",
              "      <td>Positive</td>\n",
              "      <td>1</td>\n",
              "      <td>NaN</td>\n",
              "      <td>25.0</td>\n",
              "      <td>2.0</td>\n",
              "      <td>Living</td>\n",
              "    </tr>\n",
              "    <tr>\n",
              "      <th>4</th>\n",
              "      <td>8</td>\n",
              "      <td>76.97</td>\n",
              "      <td>MASTECTOMY</td>\n",
              "      <td>Breast Cancer</td>\n",
              "      <td>Breast Mixed Ductal and Lobular Carcinoma</td>\n",
              "      <td>High</td>\n",
              "      <td>1</td>\n",
              "      <td>LumB</td>\n",
              "      <td>1.0</td>\n",
              "      <td>Positve</td>\n",
              "      <td>Positive</td>\n",
              "      <td>3.0</td>\n",
              "      <td>NEUTRAL</td>\n",
              "      <td>Negative</td>\n",
              "      <td>Mixed</td>\n",
              "      <td>1</td>\n",
              "      <td>Post</td>\n",
              "      <td>9</td>\n",
              "      <td>Right</td>\n",
              "      <td>8.0</td>\n",
              "      <td>2.0</td>\n",
              "      <td>6.080</td>\n",
              "      <td>MDLC</td>\n",
              "      <td>41.366667</td>\n",
              "      <td>0</td>\n",
              "      <td>Positive</td>\n",
              "      <td>1</td>\n",
              "      <td>ER+/HER2- High Prolif</td>\n",
              "      <td>40.0</td>\n",
              "      <td>2.0</td>\n",
              "      <td>Died of Disease</td>\n",
              "    </tr>\n",
              "  </tbody>\n",
              "</table>\n",
              "</div>\n",
              "      <button class=\"colab-df-convert\" onclick=\"convertToInteractive('df-687a5e37-9bd4-4423-b79d-ef5db4db00ab')\"\n",
              "              title=\"Convert this dataframe to an interactive table.\"\n",
              "              style=\"display:none;\">\n",
              "        \n",
              "  <svg xmlns=\"http://www.w3.org/2000/svg\" height=\"24px\"viewBox=\"0 0 24 24\"\n",
              "       width=\"24px\">\n",
              "    <path d=\"M0 0h24v24H0V0z\" fill=\"none\"/>\n",
              "    <path d=\"M18.56 5.44l.94 2.06.94-2.06 2.06-.94-2.06-.94-.94-2.06-.94 2.06-2.06.94zm-11 1L8.5 8.5l.94-2.06 2.06-.94-2.06-.94L8.5 2.5l-.94 2.06-2.06.94zm10 10l.94 2.06.94-2.06 2.06-.94-2.06-.94-.94-2.06-.94 2.06-2.06.94z\"/><path d=\"M17.41 7.96l-1.37-1.37c-.4-.4-.92-.59-1.43-.59-.52 0-1.04.2-1.43.59L10.3 9.45l-7.72 7.72c-.78.78-.78 2.05 0 2.83L4 21.41c.39.39.9.59 1.41.59.51 0 1.02-.2 1.41-.59l7.78-7.78 2.81-2.81c.8-.78.8-2.07 0-2.86zM5.41 20L4 18.59l7.72-7.72 1.47 1.35L5.41 20z\"/>\n",
              "  </svg>\n",
              "      </button>\n",
              "      \n",
              "  <style>\n",
              "    .colab-df-container {\n",
              "      display:flex;\n",
              "      flex-wrap:wrap;\n",
              "      gap: 12px;\n",
              "    }\n",
              "\n",
              "    .colab-df-convert {\n",
              "      background-color: #E8F0FE;\n",
              "      border: none;\n",
              "      border-radius: 50%;\n",
              "      cursor: pointer;\n",
              "      display: none;\n",
              "      fill: #1967D2;\n",
              "      height: 32px;\n",
              "      padding: 0 0 0 0;\n",
              "      width: 32px;\n",
              "    }\n",
              "\n",
              "    .colab-df-convert:hover {\n",
              "      background-color: #E2EBFA;\n",
              "      box-shadow: 0px 1px 2px rgba(60, 64, 67, 0.3), 0px 1px 3px 1px rgba(60, 64, 67, 0.15);\n",
              "      fill: #174EA6;\n",
              "    }\n",
              "\n",
              "    [theme=dark] .colab-df-convert {\n",
              "      background-color: #3B4455;\n",
              "      fill: #D2E3FC;\n",
              "    }\n",
              "\n",
              "    [theme=dark] .colab-df-convert:hover {\n",
              "      background-color: #434B5C;\n",
              "      box-shadow: 0px 1px 3px 1px rgba(0, 0, 0, 0.15);\n",
              "      filter: drop-shadow(0px 1px 2px rgba(0, 0, 0, 0.3));\n",
              "      fill: #FFFFFF;\n",
              "    }\n",
              "  </style>\n",
              "\n",
              "      <script>\n",
              "        const buttonEl =\n",
              "          document.querySelector('#df-687a5e37-9bd4-4423-b79d-ef5db4db00ab button.colab-df-convert');\n",
              "        buttonEl.style.display =\n",
              "          google.colab.kernel.accessAllowed ? 'block' : 'none';\n",
              "\n",
              "        async function convertToInteractive(key) {\n",
              "          const element = document.querySelector('#df-687a5e37-9bd4-4423-b79d-ef5db4db00ab');\n",
              "          const dataTable =\n",
              "            await google.colab.kernel.invokeFunction('convertToInteractive',\n",
              "                                                     [key], {});\n",
              "          if (!dataTable) return;\n",
              "\n",
              "          const docLinkHtml = 'Like what you see? Visit the ' +\n",
              "            '<a target=\"_blank\" href=https://colab.research.google.com/notebooks/data_table.ipynb>data table notebook</a>'\n",
              "            + ' to learn more about interactive tables.';\n",
              "          element.innerHTML = '';\n",
              "          dataTable['output_type'] = 'display_data';\n",
              "          await google.colab.output.renderOutput(dataTable, element);\n",
              "          const docLink = document.createElement('div');\n",
              "          docLink.innerHTML = docLinkHtml;\n",
              "          element.appendChild(docLink);\n",
              "        }\n",
              "      </script>\n",
              "    </div>\n",
              "  </div>\n",
              "  "
            ]
          },
          "metadata": {},
          "execution_count": 34
        }
      ]
    },
    {
      "cell_type": "markdown",
      "source": [
        "## **A) Diccionario de Variables**\n",
        "\n",
        "* patient_id: ID del paciente\n",
        "* ageatdiagnosis:Edad de la paciente al momento del diagnóstico. \n",
        "* typeofbreast_surgery:Tipo de cirugía de cáncer de mama: 1- MASTECTOMÍA, que se refiere a una cirugía para extirpar todo el tejido mamario de una mama como una forma de tratar o prevenir el cáncer de mama. 2- CONSERVADORA DE MAMA, que se refiere a una urgencia donde solo la parte de la mama que tiene cancer se remueve\n",
        "* cancer_type: Tipos de cáncer de mama: 1- Cáncer de mama o 2- Sarcoma de mama\n",
        "* cancertypedetailed: Tipos detallados de cáncer de mama: 1- Carcinoma ductal invasivo de mama 2- Carcinoma ductal y lobulillar mixto de mama 3- Carcinoma lobular invasivo de mama 4- Carcinoma mucinoso mixto invasivo de mama 5- Cáncer de mama metaplásico\n",
        "* cellularity: Celularidad del cáncer después de la quimioterapia, que se refiere a la cantidad de células tumorales en la muestra y su disposición en grupos.\n",
        "* chemotherapy: Si la paciente recibió quimioterapia como tratamiento (sí / no)\n",
        "* pam50+claudin-low_subtype: Pam 50: es una prueba de perfil tumoral que ayuda a mostrar si es probable que algunos cánceres de mama con receptores de estrógeno positivos (ER positivos) y HER2 negativos hagan metástasis (cuando el cáncer de mama se disemina a otros órganos). El subtipo de cáncer de mama con claudina baja se define por las características de expresión génica, principalmente: baja expresión de genes de adhesión célula-célula, alta expresión de genes de transición epitelial-mesenquimatosa (EMT) y patrones de expresión génica similares a células madre / menos diferenciados\n",
        "* cohort: La cohorte es un grupo de sujetos que comparten una característica definitoria (toma un valor de 1 a 5)\n",
        "* erstatusmeasuredbyihc: Para evaluar si los receptores de estrógeno se expresan en las células cancerosas mediante el uso de inmunohistoquímica (un tinte utilizado en patología que se dirige a un antígeno específico, si está allí, dará un color, no está allí, el tejido del portaobjetos se coloreará ) (positivo negativo)\n",
        "* er_status: Las células cancerosas son positivas o negativas para los receptores de estrógeno\n",
        "* neoplasmhistologicgrade: Determinado por patología al observar la naturaleza de las células, se ven agresivas o no (toma un valor de 1 a 3)\n",
        "* her2statusmeasuredbysnp6: Evaluar si el cáncer es positivo para HER2 o no mediante el uso de técnicas moleculares avanzadas (tipo de secuenciación de próxima generación)\n",
        "* her2_status: Si el cáncer es positivo o negativo para HER2\n",
        "* tumorotherhistologic_subtype: Tipo de cáncer basado en el examen microscópico del tejido canceroso (toma un valor de 'Ductal / NST', 'Mixto', 'Lobular', 'Tubular / cribiforme', 'Mucinoso', 'Medular', 'Otro', 'Metaplástico')\n",
        "* hormone_therapy: Si la paciente tuvo tratamiento hormonal o no (sí / no)\n",
        "* inferredmenopausalstate: Si la paciente es posmenopáusica o no (post / pre)\n",
        "* integrative_cluster: Subtipo molecular del cáncer basado en alguna expresión genética (toma un valor de '4ER +', '3', '9', '7', '4ER-', '5', '8', '10', ' 1 ',' 2 ',' 6 ')\n",
        "* primarytumorlaterality: Ya sea que involucre el seno derecho o el izquierdo\n",
        "* lymphnodesexamined_positive: Para tomar muestras del ganglio linfático durante la cirugía y ver si estaba involucrado por el cáncer.\n",
        "* mutation_count: Número de gen que tiene mutaciones relevantes\n",
        "* nottinghamprognosticindex: Se utiliza para determinar el pronóstico después de una cirugía por cáncer de mama. Su valor se calcula utilizando tres criterios patológicos: el tamaño del tumor; el número de ganglios linfáticos afectados; y el grado del tumor.\n",
        "* oncotree_code: OncoTree es una ontología de código abierto que se desarrolló en el Memorial Sloan Kettering Cancer Center (MSK) para estandarizar el diagnóstico de tipos de cáncer desde una perspectiva clínica al asignar a cada diagnóstico un código OncoTree único.\n",
        "* overallsurvivalmonths: Duración desde el momento de la intervención hasta la muerte\n",
        "* **overall_survival: Variable objetivo si el paciente está vivo o muerto**.\n",
        "* pr_status: Las células cancerosas son positivas o negativas para los receptores de progesterona\n",
        "* radio_therapy: Si el paciente recibió radio como tratamiento (sí / no)\n",
        "* 3-geneclassifiersubtype: Subtipo de clasificador de tres genes Toma un valor de 'ER- / HER2-', 'ER + / HER2- High Prolif', nan, 'ER + / HER2- Low Prolif', 'HER2 +'\n",
        "* tumor_size: Tamaño del tumor medido por técnicas de imagen.\n",
        "* Etapa del cáncer según la participación de las estructuras circundantes, los ganglios linfáticos y la diseminación a distancia\n",
        "* deathfromcancer:Si la muerte del paciente se debió a cáncer o no (sí / no)"
      ],
      "metadata": {
        "id": "Qdpjgf3EGEVN"
      }
    },
    {
      "cell_type": "code",
      "source": [
        "df.columns"
      ],
      "metadata": {
        "colab": {
          "base_uri": "https://localhost:8080/"
        },
        "id": "HVFrzpJjFZar",
        "outputId": "4f2befdf-b237-4cec-a337-954ae225ebe2"
      },
      "execution_count": null,
      "outputs": [
        {
          "output_type": "execute_result",
          "data": {
            "text/plain": [
              "Index(['patient_id', 'age_at_diagnosis', 'type_of_breast_surgery',\n",
              "       'cancer_type', 'cancer_type_detailed', 'cellularity', 'chemotherapy',\n",
              "       'pam50_+_claudin-low_subtype', 'cohort', 'er_status_measured_by_ihc',\n",
              "       'er_status', 'neoplasm_histologic_grade',\n",
              "       'her2_status_measured_by_snp6', 'her2_status',\n",
              "       'tumor_other_histologic_subtype', 'hormone_therapy',\n",
              "       'inferred_menopausal_state', 'integrative_cluster',\n",
              "       'primary_tumor_laterality', 'lymph_nodes_examined_positive',\n",
              "       'mutation_count', 'nottingham_prognostic_index', 'oncotree_code',\n",
              "       'overall_survival_months', 'overall_survival', 'pr_status',\n",
              "       'radio_therapy', '3-gene_classifier_subtype', 'tumor_size',\n",
              "       'tumor_stage', 'death_from_cancer'],\n",
              "      dtype='object')"
            ]
          },
          "metadata": {},
          "execution_count": 35
        }
      ]
    },
    {
      "cell_type": "markdown",
      "source": [
        "**Analisis Tiempo Supervivencia**\n",
        "* Vamos a analizar el efecto chemotherapy: Si la paciente recibió quimioterapia como tratamiento (sí / no)\n",
        "* overallsurvivalmonths: Duración desde el momento de la intervención hasta la muerte.\n",
        "* overall_survival: Variable objetivo si el paciente está vivo o muerto."
      ],
      "metadata": {
        "id": "TWqMKa0XGgll"
      }
    },
    {
      "cell_type": "code",
      "source": [
        "df.chemotherapy.value_counts()"
      ],
      "metadata": {
        "colab": {
          "base_uri": "https://localhost:8080/"
        },
        "id": "ODPNKcigMmH7",
        "outputId": "ae8031cf-ceea-42f4-c292-26a412e2c758"
      },
      "execution_count": null,
      "outputs": [
        {
          "output_type": "execute_result",
          "data": {
            "text/plain": [
              "0    1508\n",
              "1     396\n",
              "Name: chemotherapy, dtype: int64"
            ]
          },
          "metadata": {},
          "execution_count": 36
        }
      ]
    },
    {
      "cell_type": "code",
      "source": [
        "pd.crosstab(df.chemotherapy,df.overall_survival)"
      ],
      "metadata": {
        "colab": {
          "base_uri": "https://localhost:8080/",
          "height": 143
        },
        "id": "L49K7qOTMwxI",
        "outputId": "d175c4a4-5c0e-4cf4-a25d-d1847cfa7161"
      },
      "execution_count": null,
      "outputs": [
        {
          "output_type": "execute_result",
          "data": {
            "text/plain": [
              "overall_survival    0    1\n",
              "chemotherapy              \n",
              "0                 891  617\n",
              "1                 212  184"
            ],
            "text/html": [
              "\n",
              "  <div id=\"df-a5677559-f43e-4cb9-9e72-ff12b8ba538d\">\n",
              "    <div class=\"colab-df-container\">\n",
              "      <div>\n",
              "<style scoped>\n",
              "    .dataframe tbody tr th:only-of-type {\n",
              "        vertical-align: middle;\n",
              "    }\n",
              "\n",
              "    .dataframe tbody tr th {\n",
              "        vertical-align: top;\n",
              "    }\n",
              "\n",
              "    .dataframe thead th {\n",
              "        text-align: right;\n",
              "    }\n",
              "</style>\n",
              "<table border=\"1\" class=\"dataframe\">\n",
              "  <thead>\n",
              "    <tr style=\"text-align: right;\">\n",
              "      <th>overall_survival</th>\n",
              "      <th>0</th>\n",
              "      <th>1</th>\n",
              "    </tr>\n",
              "    <tr>\n",
              "      <th>chemotherapy</th>\n",
              "      <th></th>\n",
              "      <th></th>\n",
              "    </tr>\n",
              "  </thead>\n",
              "  <tbody>\n",
              "    <tr>\n",
              "      <th>0</th>\n",
              "      <td>891</td>\n",
              "      <td>617</td>\n",
              "    </tr>\n",
              "    <tr>\n",
              "      <th>1</th>\n",
              "      <td>212</td>\n",
              "      <td>184</td>\n",
              "    </tr>\n",
              "  </tbody>\n",
              "</table>\n",
              "</div>\n",
              "      <button class=\"colab-df-convert\" onclick=\"convertToInteractive('df-a5677559-f43e-4cb9-9e72-ff12b8ba538d')\"\n",
              "              title=\"Convert this dataframe to an interactive table.\"\n",
              "              style=\"display:none;\">\n",
              "        \n",
              "  <svg xmlns=\"http://www.w3.org/2000/svg\" height=\"24px\"viewBox=\"0 0 24 24\"\n",
              "       width=\"24px\">\n",
              "    <path d=\"M0 0h24v24H0V0z\" fill=\"none\"/>\n",
              "    <path d=\"M18.56 5.44l.94 2.06.94-2.06 2.06-.94-2.06-.94-.94-2.06-.94 2.06-2.06.94zm-11 1L8.5 8.5l.94-2.06 2.06-.94-2.06-.94L8.5 2.5l-.94 2.06-2.06.94zm10 10l.94 2.06.94-2.06 2.06-.94-2.06-.94-.94-2.06-.94 2.06-2.06.94z\"/><path d=\"M17.41 7.96l-1.37-1.37c-.4-.4-.92-.59-1.43-.59-.52 0-1.04.2-1.43.59L10.3 9.45l-7.72 7.72c-.78.78-.78 2.05 0 2.83L4 21.41c.39.39.9.59 1.41.59.51 0 1.02-.2 1.41-.59l7.78-7.78 2.81-2.81c.8-.78.8-2.07 0-2.86zM5.41 20L4 18.59l7.72-7.72 1.47 1.35L5.41 20z\"/>\n",
              "  </svg>\n",
              "      </button>\n",
              "      \n",
              "  <style>\n",
              "    .colab-df-container {\n",
              "      display:flex;\n",
              "      flex-wrap:wrap;\n",
              "      gap: 12px;\n",
              "    }\n",
              "\n",
              "    .colab-df-convert {\n",
              "      background-color: #E8F0FE;\n",
              "      border: none;\n",
              "      border-radius: 50%;\n",
              "      cursor: pointer;\n",
              "      display: none;\n",
              "      fill: #1967D2;\n",
              "      height: 32px;\n",
              "      padding: 0 0 0 0;\n",
              "      width: 32px;\n",
              "    }\n",
              "\n",
              "    .colab-df-convert:hover {\n",
              "      background-color: #E2EBFA;\n",
              "      box-shadow: 0px 1px 2px rgba(60, 64, 67, 0.3), 0px 1px 3px 1px rgba(60, 64, 67, 0.15);\n",
              "      fill: #174EA6;\n",
              "    }\n",
              "\n",
              "    [theme=dark] .colab-df-convert {\n",
              "      background-color: #3B4455;\n",
              "      fill: #D2E3FC;\n",
              "    }\n",
              "\n",
              "    [theme=dark] .colab-df-convert:hover {\n",
              "      background-color: #434B5C;\n",
              "      box-shadow: 0px 1px 3px 1px rgba(0, 0, 0, 0.15);\n",
              "      filter: drop-shadow(0px 1px 2px rgba(0, 0, 0, 0.3));\n",
              "      fill: #FFFFFF;\n",
              "    }\n",
              "  </style>\n",
              "\n",
              "      <script>\n",
              "        const buttonEl =\n",
              "          document.querySelector('#df-a5677559-f43e-4cb9-9e72-ff12b8ba538d button.colab-df-convert');\n",
              "        buttonEl.style.display =\n",
              "          google.colab.kernel.accessAllowed ? 'block' : 'none';\n",
              "\n",
              "        async function convertToInteractive(key) {\n",
              "          const element = document.querySelector('#df-a5677559-f43e-4cb9-9e72-ff12b8ba538d');\n",
              "          const dataTable =\n",
              "            await google.colab.kernel.invokeFunction('convertToInteractive',\n",
              "                                                     [key], {});\n",
              "          if (!dataTable) return;\n",
              "\n",
              "          const docLinkHtml = 'Like what you see? Visit the ' +\n",
              "            '<a target=\"_blank\" href=https://colab.research.google.com/notebooks/data_table.ipynb>data table notebook</a>'\n",
              "            + ' to learn more about interactive tables.';\n",
              "          element.innerHTML = '';\n",
              "          dataTable['output_type'] = 'display_data';\n",
              "          await google.colab.output.renderOutput(dataTable, element);\n",
              "          const docLink = document.createElement('div');\n",
              "          docLink.innerHTML = docLinkHtml;\n",
              "          element.appendChild(docLink);\n",
              "        }\n",
              "      </script>\n",
              "    </div>\n",
              "  </div>\n",
              "  "
            ]
          },
          "metadata": {},
          "execution_count": 37
        }
      ]
    },
    {
      "cell_type": "code",
      "source": [
        "df.death_from_cancer.value_counts()"
      ],
      "metadata": {
        "colab": {
          "base_uri": "https://localhost:8080/"
        },
        "id": "r1NzSlNyKCU8",
        "outputId": "8ac72e07-17f4-4a8b-816d-0294e77ec6c1"
      },
      "execution_count": null,
      "outputs": [
        {
          "output_type": "execute_result",
          "data": {
            "text/plain": [
              "Living                  801\n",
              "Died of Disease         622\n",
              "Died of Other Causes    480\n",
              "Name: death_from_cancer, dtype: int64"
            ]
          },
          "metadata": {},
          "execution_count": 38
        }
      ]
    },
    {
      "cell_type": "code",
      "source": [
        "df.overall_survival.value_counts()"
      ],
      "metadata": {
        "colab": {
          "base_uri": "https://localhost:8080/"
        },
        "id": "sU0Js2aOJaqr",
        "outputId": "33e7e600-9224-48a3-f090-d40f5ee18ed7"
      },
      "execution_count": null,
      "outputs": [
        {
          "output_type": "execute_result",
          "data": {
            "text/plain": [
              "0    1103\n",
              "1     801\n",
              "Name: overall_survival, dtype: int64"
            ]
          },
          "metadata": {},
          "execution_count": 39
        }
      ]
    },
    {
      "cell_type": "code",
      "source": [
        "Muertes=df[df.chemotherapy==1]\n",
        "print(Muertes.shape)"
      ],
      "metadata": {
        "colab": {
          "base_uri": "https://localhost:8080/"
        },
        "id": "Fzpvd-SmJmds",
        "outputId": "4fa43f95-316b-4d35-f049-658edd5b4008"
      },
      "execution_count": null,
      "outputs": [
        {
          "output_type": "stream",
          "name": "stdout",
          "text": [
            "(396, 31)\n"
          ]
        }
      ]
    },
    {
      "cell_type": "code",
      "source": [
        "sns.boxplot(y=\"overall_survival_months\", data=Muertes)\n",
        "plt.show()"
      ],
      "metadata": {
        "colab": {
          "base_uri": "https://localhost:8080/",
          "height": 252
        },
        "id": "1rzwq3n6F1qT",
        "outputId": "ab03ad77-b268-4d24-93dd-8e4317fa6525"
      },
      "execution_count": null,
      "outputs": [
        {
          "output_type": "display_data",
          "data": {
            "text/plain": [
              "<Figure size 432x288 with 1 Axes>"
            ],
            "image/png": "[encoded data removed]"
          },
          "metadata": {
            "needs_background": "light"
          }
        }
      ]
    },
    {
      "cell_type": "code",
      "source": [
        "sns.boxplot(x=\"overall_survival\",y=\"overall_survival_months\", data=Muertes)\n",
        "plt.show()"
      ],
      "metadata": {
        "colab": {
          "base_uri": "https://localhost:8080/",
          "height": 280
        },
        "id": "SN4JH51wGU86",
        "outputId": "3af576ca-a05f-4ec5-a156-6a62129a981d"
      },
      "execution_count": null,
      "outputs": [
        {
          "output_type": "display_data",
          "data": {
            "text/plain": [
              "<Figure size 432x288 with 1 Axes>"
            ],
            "image/png": "[encoded data removed]"
          },
          "metadata": {
            "needs_background": "light"
          }
        }
      ]
    },
    {
      "cell_type": "code",
      "source": [
        "sns.histplot(data=Muertes, x=\"overall_survival_months\", hue=\"overall_survival\",multiple=\"stack\")\n",
        "plt.show()"
      ],
      "metadata": {
        "colab": {
          "base_uri": "https://localhost:8080/",
          "height": 280
        },
        "id": "d-tq93epIfz6",
        "outputId": "ecbc3112-3a70-4901-a904-8960ec821857"
      },
      "execution_count": null,
      "outputs": [
        {
          "output_type": "display_data",
          "data": {
            "text/plain": [
              "<Figure size 432x288 with 1 Axes>"
            ],
            "image/png": "[encoded data removed]"
          },
          "metadata": {
            "needs_background": "light"
          }
        }
      ]
    },
    {
      "cell_type": "code",
      "source": [
        "Muertes.head(5)"
      ],
      "metadata": {
        "colab": {
          "base_uri": "https://localhost:8080/",
          "height": 374
        },
        "id": "6_a_6tsHIqEp",
        "outputId": "004da4a0-e17c-41b0-965e-1dd348ae5368"
      },
      "execution_count": null,
      "outputs": [
        {
          "output_type": "execute_result",
          "data": {
            "text/plain": [
              "    patient_id  age_at_diagnosis type_of_breast_surgery    cancer_type  \\\n",
              "2            5             48.87             MASTECTOMY  Breast Cancer   \n",
              "3            6             47.68             MASTECTOMY  Breast Cancer   \n",
              "4            8             76.97             MASTECTOMY  Breast Cancer   \n",
              "6           14             56.45      BREAST CONSERVING  Breast Cancer   \n",
              "12          45             45.27             MASTECTOMY  Breast Cancer   \n",
              "\n",
              "                         cancer_type_detailed cellularity  chemotherapy  \\\n",
              "2            Breast Invasive Ductal Carcinoma        High             1   \n",
              "3   Breast Mixed Ductal and Lobular Carcinoma    Moderate             1   \n",
              "4   Breast Mixed Ductal and Lobular Carcinoma        High             1   \n",
              "6            Breast Invasive Ductal Carcinoma    Moderate             1   \n",
              "12           Breast Invasive Ductal Carcinoma        High             1   \n",
              "\n",
              "   pam50_+_claudin-low_subtype  cohort er_status_measured_by_ihc er_status  \\\n",
              "2                         LumB     1.0                   Positve  Positive   \n",
              "3                         LumB     1.0                   Positve  Positive   \n",
              "4                         LumB     1.0                   Positve  Positive   \n",
              "6                         LumB     1.0                   Positve  Positive   \n",
              "12                 claudin-low     1.0                  Negative  Negative   \n",
              "\n",
              "    neoplasm_histologic_grade her2_status_measured_by_snp6 her2_status  \\\n",
              "2                         2.0                      NEUTRAL    Negative   \n",
              "3                         2.0                      NEUTRAL    Negative   \n",
              "4                         3.0                      NEUTRAL    Negative   \n",
              "6                         2.0                         LOSS    Negative   \n",
              "12                        3.0                      NEUTRAL    Negative   \n",
              "\n",
              "   tumor_other_histologic_subtype  hormone_therapy inferred_menopausal_state  \\\n",
              "2                      Ductal/NST                1                       Pre   \n",
              "3                           Mixed                1                       Pre   \n",
              "4                           Mixed                1                      Post   \n",
              "6                      Ductal/NST                1                      Post   \n",
              "12                     Ductal/NST                0                       Pre   \n",
              "\n",
              "   integrative_cluster primary_tumor_laterality  \\\n",
              "2                    3                    Right   \n",
              "3                    9                    Right   \n",
              "4                    9                    Right   \n",
              "6                    3                    Right   \n",
              "12                4ER-                    Right   \n",
              "\n",
              "    lymph_nodes_examined_positive  mutation_count  \\\n",
              "2                             1.0             2.0   \n",
              "3                             3.0             1.0   \n",
              "4                             8.0             2.0   \n",
              "6                             1.0             4.0   \n",
              "12                            3.0             NaN   \n",
              "\n",
              "    nottingham_prognostic_index oncotree_code  overall_survival_months  \\\n",
              "2                         4.030           IDC               163.700000   \n",
              "3                         4.050          MDLC               164.933333   \n",
              "4                         6.080          MDLC                41.366667   \n",
              "6                         4.020           IDC               164.333333   \n",
              "12                        5.038           IDC               164.900000   \n",
              "\n",
              "    overall_survival pr_status  radio_therapy 3-gene_classifier_subtype  \\\n",
              "2                  0  Positive              0                       NaN   \n",
              "3                  1  Positive              1                       NaN   \n",
              "4                  0  Positive              1     ER+/HER2- High Prolif   \n",
              "6                  1  Positive              1                       NaN   \n",
              "12                 1  Positive              1                       NaN   \n",
              "\n",
              "    tumor_size  tumor_stage death_from_cancer  \n",
              "2         15.0          2.0   Died of Disease  \n",
              "3         25.0          2.0            Living  \n",
              "4         40.0          2.0   Died of Disease  \n",
              "6         10.0          2.0            Living  \n",
              "12        19.0          2.0            Living  "
            ],
            "text/html": [
              "\n",
              "  <div id=\"df-64fe140f-c584-4d4e-bd00-aecce501e232\">\n",
              "    <div class=\"colab-df-container\">\n",
              "      <div>\n",
              "<style scoped>\n",
              "    .dataframe tbody tr th:only-of-type {\n",
              "        vertical-align: middle;\n",
              "    }\n",
              "\n",
              "    .dataframe tbody tr th {\n",
              "        vertical-align: top;\n",
              "    }\n",
              "\n",
              "    .dataframe thead th {\n",
              "        text-align: right;\n",
              "    }\n",
              "</style>\n",
              "<table border=\"1\" class=\"dataframe\">\n",
              "  <thead>\n",
              "    <tr style=\"text-align: right;\">\n",
              "      <th></th>\n",
              "      <th>patient_id</th>\n",
              "      <th>age_at_diagnosis</th>\n",
              "      <th>type_of_breast_surgery</th>\n",
              "      <th>cancer_type</th>\n",
              "      <th>cancer_type_detailed</th>\n",
              "      <th>cellularity</th>\n",
              "      <th>chemotherapy</th>\n",
              "      <th>pam50_+_claudin-low_subtype</th>\n",
              "      <th>cohort</th>\n",
              "      <th>er_status_measured_by_ihc</th>\n",
              "      <th>er_status</th>\n",
              "      <th>neoplasm_histologic_grade</th>\n",
              "      <th>her2_status_measured_by_snp6</th>\n",
              "      <th>her2_status</th>\n",
              "      <th>tumor_other_histologic_subtype</th>\n",
              "      <th>hormone_therapy</th>\n",
              "      <th>inferred_menopausal_state</th>\n",
              "      <th>integrative_cluster</th>\n",
              "      <th>primary_tumor_laterality</th>\n",
              "      <th>lymph_nodes_examined_positive</th>\n",
              "      <th>mutation_count</th>\n",
              "      <th>nottingham_prognostic_index</th>\n",
              "      <th>oncotree_code</th>\n",
              "      <th>overall_survival_months</th>\n",
              "      <th>overall_survival</th>\n",
              "      <th>pr_status</th>\n",
              "      <th>radio_therapy</th>\n",
              "      <th>3-gene_classifier_subtype</th>\n",
              "      <th>tumor_size</th>\n",
              "      <th>tumor_stage</th>\n",
              "      <th>death_from_cancer</th>\n",
              "    </tr>\n",
              "  </thead>\n",
              "  <tbody>\n",
              "    <tr>\n",
              "      <th>2</th>\n",
              "      <td>5</td>\n",
              "      <td>48.87</td>\n",
              "      <td>MASTECTOMY</td>\n",
              "      <td>Breast Cancer</td>\n",
              "      <td>Breast Invasive Ductal Carcinoma</td>\n",
              "      <td>High</td>\n",
              "      <td>1</td>\n",
              "      <td>LumB</td>\n",
              "      <td>1.0</td>\n",
              "      <td>Positve</td>\n",
              "      <td>Positive</td>\n",
              "      <td>2.0</td>\n",
              "      <td>NEUTRAL</td>\n",
              "      <td>Negative</td>\n",
              "      <td>Ductal/NST</td>\n",
              "      <td>1</td>\n",
              "      <td>Pre</td>\n",
              "      <td>3</td>\n",
              "      <td>Right</td>\n",
              "      <td>1.0</td>\n",
              "      <td>2.0</td>\n",
              "      <td>4.030</td>\n",
              "      <td>IDC</td>\n",
              "      <td>163.700000</td>\n",
              "      <td>0</td>\n",
              "      <td>Positive</td>\n",
              "      <td>0</td>\n",
              "      <td>NaN</td>\n",
              "      <td>15.0</td>\n",
              "      <td>2.0</td>\n",
              "      <td>Died of Disease</td>\n",
              "    </tr>\n",
              "    <tr>\n",
              "      <th>3</th>\n",
              "      <td>6</td>\n",
              "      <td>47.68</td>\n",
              "      <td>MASTECTOMY</td>\n",
              "      <td>Breast Cancer</td>\n",
              "      <td>Breast Mixed Ductal and Lobular Carcinoma</td>\n",
              "      <td>Moderate</td>\n",
              "      <td>1</td>\n",
              "      <td>LumB</td>\n",
              "      <td>1.0</td>\n",
              "      <td>Positve</td>\n",
              "      <td>Positive</td>\n",
              "      <td>2.0</td>\n",
              "      <td>NEUTRAL</td>\n",
              "      <td>Negative</td>\n",
              "      <td>Mixed</td>\n",
              "      <td>1</td>\n",
              "      <td>Pre</td>\n",
              "      <td>9</td>\n",
              "      <td>Right</td>\n",
              "      <td>3.0</td>\n",
              "      <td>1.0</td>\n",
              "      <td>4.050</td>\n",
              "      <td>MDLC</td>\n",
              "      <td>164.933333</td>\n",
              "      <td>1</td>\n",
              "      <td>Positive</td>\n",
              "      <td>1</td>\n",
              "      <td>NaN</td>\n",
              "      <td>25.0</td>\n",
              "      <td>2.0</td>\n",
              "      <td>Living</td>\n",
              "    </tr>\n",
              "    <tr>\n",
              "      <th>4</th>\n",
              "      <td>8</td>\n",
              "      <td>76.97</td>\n",
              "      <td>MASTECTOMY</td>\n",
              "      <td>Breast Cancer</td>\n",
              "      <td>Breast Mixed Ductal and Lobular Carcinoma</td>\n",
              "      <td>High</td>\n",
              "      <td>1</td>\n",
              "      <td>LumB</td>\n",
              "      <td>1.0</td>\n",
              "      <td>Positve</td>\n",
              "      <td>Positive</td>\n",
              "      <td>3.0</td>\n",
              "      <td>NEUTRAL</td>\n",
              "      <td>Negative</td>\n",
              "      <td>Mixed</td>\n",
              "      <td>1</td>\n",
              "      <td>Post</td>\n",
              "      <td>9</td>\n",
              "      <td>Right</td>\n",
              "      <td>8.0</td>\n",
              "      <td>2.0</td>\n",
              "      <td>6.080</td>\n",
              "      <td>MDLC</td>\n",
              "      <td>41.366667</td>\n",
              "      <td>0</td>\n",
              "      <td>Positive</td>\n",
              "      <td>1</td>\n",
              "      <td>ER+/HER2- High Prolif</td>\n",
              "      <td>40.0</td>\n",
              "      <td>2.0</td>\n",
              "      <td>Died of Disease</td>\n",
              "    </tr>\n",
              "    <tr>\n",
              "      <th>6</th>\n",
              "      <td>14</td>\n",
              "      <td>56.45</td>\n",
              "      <td>BREAST CONSERVING</td>\n",
              "      <td>Breast Cancer</td>\n",
              "      <td>Breast Invasive Ductal Carcinoma</td>\n",
              "      <td>Moderate</td>\n",
              "      <td>1</td>\n",
              "      <td>LumB</td>\n",
              "      <td>1.0</td>\n",
              "      <td>Positve</td>\n",
              "      <td>Positive</td>\n",
              "      <td>2.0</td>\n",
              "      <td>LOSS</td>\n",
              "      <td>Negative</td>\n",
              "      <td>Ductal/NST</td>\n",
              "      <td>1</td>\n",
              "      <td>Post</td>\n",
              "      <td>3</td>\n",
              "      <td>Right</td>\n",
              "      <td>1.0</td>\n",
              "      <td>4.0</td>\n",
              "      <td>4.020</td>\n",
              "      <td>IDC</td>\n",
              "      <td>164.333333</td>\n",
              "      <td>1</td>\n",
              "      <td>Positive</td>\n",
              "      <td>1</td>\n",
              "      <td>NaN</td>\n",
              "      <td>10.0</td>\n",
              "      <td>2.0</td>\n",
              "      <td>Living</td>\n",
              "    </tr>\n",
              "    <tr>\n",
              "      <th>12</th>\n",
              "      <td>45</td>\n",
              "      <td>45.27</td>\n",
              "      <td>MASTECTOMY</td>\n",
              "      <td>Breast Cancer</td>\n",
              "      <td>Breast Invasive Ductal Carcinoma</td>\n",
              "      <td>High</td>\n",
              "      <td>1</td>\n",
              "      <td>claudin-low</td>\n",
              "      <td>1.0</td>\n",
              "      <td>Negative</td>\n",
              "      <td>Negative</td>\n",
              "      <td>3.0</td>\n",
              "      <td>NEUTRAL</td>\n",
              "      <td>Negative</td>\n",
              "      <td>Ductal/NST</td>\n",
              "      <td>0</td>\n",
              "      <td>Pre</td>\n",
              "      <td>4ER-</td>\n",
              "      <td>Right</td>\n",
              "      <td>3.0</td>\n",
              "      <td>NaN</td>\n",
              "      <td>5.038</td>\n",
              "      <td>IDC</td>\n",
              "      <td>164.900000</td>\n",
              "      <td>1</td>\n",
              "      <td>Positive</td>\n",
              "      <td>1</td>\n",
              "      <td>NaN</td>\n",
              "      <td>19.0</td>\n",
              "      <td>2.0</td>\n",
              "      <td>Living</td>\n",
              "    </tr>\n",
              "  </tbody>\n",
              "</table>\n",
              "</div>\n",
              "      <button class=\"colab-df-convert\" onclick=\"convertToInteractive('df-64fe140f-c584-4d4e-bd00-aecce501e232')\"\n",
              "              title=\"Convert this dataframe to an interactive table.\"\n",
              "              style=\"display:none;\">\n",
              "        \n",
              "  <svg xmlns=\"http://www.w3.org/2000/svg\" height=\"24px\"viewBox=\"0 0 24 24\"\n",
              "       width=\"24px\">\n",
              "    <path d=\"M0 0h24v24H0V0z\" fill=\"none\"/>\n",
              "    <path d=\"M18.56 5.44l.94 2.06.94-2.06 2.06-.94-2.06-.94-.94-2.06-.94 2.06-2.06.94zm-11 1L8.5 8.5l.94-2.06 2.06-.94-2.06-.94L8.5 2.5l-.94 2.06-2.06.94zm10 10l.94 2.06.94-2.06 2.06-.94-2.06-.94-.94-2.06-.94 2.06-2.06.94z\"/><path d=\"M17.41 7.96l-1.37-1.37c-.4-.4-.92-.59-1.43-.59-.52 0-1.04.2-1.43.59L10.3 9.45l-7.72 7.72c-.78.78-.78 2.05 0 2.83L4 21.41c.39.39.9.59 1.41.59.51 0 1.02-.2 1.41-.59l7.78-7.78 2.81-2.81c.8-.78.8-2.07 0-2.86zM5.41 20L4 18.59l7.72-7.72 1.47 1.35L5.41 20z\"/>\n",
              "  </svg>\n",
              "      </button>\n",
              "      \n",
              "  <style>\n",
              "    .colab-df-container {\n",
              "      display:flex;\n",
              "      flex-wrap:wrap;\n",
              "      gap: 12px;\n",
              "    }\n",
              "\n",
              "    .colab-df-convert {\n",
              "      background-color: #E8F0FE;\n",
              "      border: none;\n",
              "      border-radius: 50%;\n",
              "      cursor: pointer;\n",
              "      display: none;\n",
              "      fill: #1967D2;\n",
              "      height: 32px;\n",
              "      padding: 0 0 0 0;\n",
              "      width: 32px;\n",
              "    }\n",
              "\n",
              "    .colab-df-convert:hover {\n",
              "      background-color: #E2EBFA;\n",
              "      box-shadow: 0px 1px 2px rgba(60, 64, 67, 0.3), 0px 1px 3px 1px rgba(60, 64, 67, 0.15);\n",
              "      fill: #174EA6;\n",
              "    }\n",
              "\n",
              "    [theme=dark] .colab-df-convert {\n",
              "      background-color: #3B4455;\n",
              "      fill: #D2E3FC;\n",
              "    }\n",
              "\n",
              "    [theme=dark] .colab-df-convert:hover {\n",
              "      background-color: #434B5C;\n",
              "      box-shadow: 0px 1px 3px 1px rgba(0, 0, 0, 0.15);\n",
              "      filter: drop-shadow(0px 1px 2px rgba(0, 0, 0, 0.3));\n",
              "      fill: #FFFFFF;\n",
              "    }\n",
              "  </style>\n",
              "\n",
              "      <script>\n",
              "        const buttonEl =\n",
              "          document.querySelector('#df-64fe140f-c584-4d4e-bd00-aecce501e232 button.colab-df-convert');\n",
              "        buttonEl.style.display =\n",
              "          google.colab.kernel.accessAllowed ? 'block' : 'none';\n",
              "\n",
              "        async function convertToInteractive(key) {\n",
              "          const element = document.querySelector('#df-64fe140f-c584-4d4e-bd00-aecce501e232');\n",
              "          const dataTable =\n",
              "            await google.colab.kernel.invokeFunction('convertToInteractive',\n",
              "                                                     [key], {});\n",
              "          if (!dataTable) return;\n",
              "\n",
              "          const docLinkHtml = 'Like what you see? Visit the ' +\n",
              "            '<a target=\"_blank\" href=https://colab.research.google.com/notebooks/data_table.ipynb>data table notebook</a>'\n",
              "            + ' to learn more about interactive tables.';\n",
              "          element.innerHTML = '';\n",
              "          dataTable['output_type'] = 'display_data';\n",
              "          await google.colab.output.renderOutput(dataTable, element);\n",
              "          const docLink = document.createElement('div');\n",
              "          docLink.innerHTML = docLinkHtml;\n",
              "          element.appendChild(docLink);\n",
              "        }\n",
              "      </script>\n",
              "    </div>\n",
              "  </div>\n",
              "  "
            ]
          },
          "metadata": {},
          "execution_count": 44
        }
      ]
    },
    {
      "cell_type": "markdown",
      "source": [
        "Hallar el estimador de Kaplan-Meier para la función de supervivencia de todos los individuos juntos, sin importar el grupo. Representarlo en un gráfico. Representar con un símbolo sobre el gráfico anterior los eventos censurados."
      ],
      "metadata": {
        "id": "A4qbJP5eKuJ1"
      }
    },
    {
      "cell_type": "code",
      "source": [
        "Muertes[\"E\"]=\"\"\n",
        "Muertes[\"E\"][Muertes.overall_survival==1]=0\n",
        "Muertes[\"E\"][Muertes.overall_survival==0]=1"
      ],
      "metadata": {
        "colab": {
          "base_uri": "https://localhost:8080/"
        },
        "id": "TzXKNaEyNiGJ",
        "outputId": "e74e8ece-f0da-4869-a623-17ecc53476cd"
      },
      "execution_count": null,
      "outputs": [
        {
          "output_type": "stream",
          "name": "stderr",
          "text": [
            "/usr/local/lib/python3.7/dist-packages/ipykernel_launcher.py:1: SettingWithCopyWarning: \n",
            "A value is trying to be set on a copy of a slice from a DataFrame.\n",
            "Try using .loc[row_indexer,col_indexer] = value instead\n",
            "\n",
            "See the caveats in the documentation: https://pandas.pydata.org/pandas-docs/stable/user_guide/indexing.html#returning-a-view-versus-a-copy\n",
            "  \"\"\"Entry point for launching an IPython kernel.\n",
            "/usr/local/lib/python3.7/dist-packages/ipykernel_launcher.py:2: SettingWithCopyWarning: \n",
            "A value is trying to be set on a copy of a slice from a DataFrame\n",
            "\n",
            "See the caveats in the documentation: https://pandas.pydata.org/pandas-docs/stable/user_guide/indexing.html#returning-a-view-versus-a-copy\n",
            "  \n",
            "/usr/local/lib/python3.7/dist-packages/pandas/core/generic.py:8870: SettingWithCopyWarning: \n",
            "A value is trying to be set on a copy of a slice from a DataFrame\n",
            "\n",
            "See the caveats in the documentation: https://pandas.pydata.org/pandas-docs/stable/user_guide/indexing.html#returning-a-view-versus-a-copy\n",
            "  return self._update_inplace(result)\n",
            "/usr/local/lib/python3.7/dist-packages/ipykernel_launcher.py:3: SettingWithCopyWarning: \n",
            "A value is trying to be set on a copy of a slice from a DataFrame\n",
            "\n",
            "See the caveats in the documentation: https://pandas.pydata.org/pandas-docs/stable/user_guide/indexing.html#returning-a-view-versus-a-copy\n",
            "  This is separate from the ipykernel package so we can avoid doing imports until\n"
          ]
        }
      ]
    },
    {
      "cell_type": "code",
      "source": [
        "Muertes.groupby(\"E\").agg({\"overall_survival_months\":\"mean\"})"
      ],
      "metadata": {
        "colab": {
          "base_uri": "https://localhost:8080/",
          "height": 143
        },
        "id": "MZAHhNvwLHLS",
        "outputId": "c5fd2334-f401-46b7-88ac-7d1d51b2fcdf"
      },
      "execution_count": null,
      "outputs": [
        {
          "output_type": "execute_result",
          "data": {
            "text/plain": [
              "   overall_survival_months\n",
              "E                         \n",
              "0               148.843841\n",
              "1                60.037579"
            ],
            "text/html": [
              "\n",
              "  <div id=\"df-cde368dc-4b39-41c5-94e0-45a13b111c97\">\n",
              "    <div class=\"colab-df-container\">\n",
              "      <div>\n",
              "<style scoped>\n",
              "    .dataframe tbody tr th:only-of-type {\n",
              "        vertical-align: middle;\n",
              "    }\n",
              "\n",
              "    .dataframe tbody tr th {\n",
              "        vertical-align: top;\n",
              "    }\n",
              "\n",
              "    .dataframe thead th {\n",
              "        text-align: right;\n",
              "    }\n",
              "</style>\n",
              "<table border=\"1\" class=\"dataframe\">\n",
              "  <thead>\n",
              "    <tr style=\"text-align: right;\">\n",
              "      <th></th>\n",
              "      <th>overall_survival_months</th>\n",
              "    </tr>\n",
              "    <tr>\n",
              "      <th>E</th>\n",
              "      <th></th>\n",
              "    </tr>\n",
              "  </thead>\n",
              "  <tbody>\n",
              "    <tr>\n",
              "      <th>0</th>\n",
              "      <td>148.843841</td>\n",
              "    </tr>\n",
              "    <tr>\n",
              "      <th>1</th>\n",
              "      <td>60.037579</td>\n",
              "    </tr>\n",
              "  </tbody>\n",
              "</table>\n",
              "</div>\n",
              "      <button class=\"colab-df-convert\" onclick=\"convertToInteractive('df-cde368dc-4b39-41c5-94e0-45a13b111c97')\"\n",
              "              title=\"Convert this dataframe to an interactive table.\"\n",
              "              style=\"display:none;\">\n",
              "        \n",
              "  <svg xmlns=\"http://www.w3.org/2000/svg\" height=\"24px\"viewBox=\"0 0 24 24\"\n",
              "       width=\"24px\">\n",
              "    <path d=\"M0 0h24v24H0V0z\" fill=\"none\"/>\n",
              "    <path d=\"M18.56 5.44l.94 2.06.94-2.06 2.06-.94-2.06-.94-.94-2.06-.94 2.06-2.06.94zm-11 1L8.5 8.5l.94-2.06 2.06-.94-2.06-.94L8.5 2.5l-.94 2.06-2.06.94zm10 10l.94 2.06.94-2.06 2.06-.94-2.06-.94-.94-2.06-.94 2.06-2.06.94z\"/><path d=\"M17.41 7.96l-1.37-1.37c-.4-.4-.92-.59-1.43-.59-.52 0-1.04.2-1.43.59L10.3 9.45l-7.72 7.72c-.78.78-.78 2.05 0 2.83L4 21.41c.39.39.9.59 1.41.59.51 0 1.02-.2 1.41-.59l7.78-7.78 2.81-2.81c.8-.78.8-2.07 0-2.86zM5.41 20L4 18.59l7.72-7.72 1.47 1.35L5.41 20z\"/>\n",
              "  </svg>\n",
              "      </button>\n",
              "      \n",
              "  <style>\n",
              "    .colab-df-container {\n",
              "      display:flex;\n",
              "      flex-wrap:wrap;\n",
              "      gap: 12px;\n",
              "    }\n",
              "\n",
              "    .colab-df-convert {\n",
              "      background-color: #E8F0FE;\n",
              "      border: none;\n",
              "      border-radius: 50%;\n",
              "      cursor: pointer;\n",
              "      display: none;\n",
              "      fill: #1967D2;\n",
              "      height: 32px;\n",
              "      padding: 0 0 0 0;\n",
              "      width: 32px;\n",
              "    }\n",
              "\n",
              "    .colab-df-convert:hover {\n",
              "      background-color: #E2EBFA;\n",
              "      box-shadow: 0px 1px 2px rgba(60, 64, 67, 0.3), 0px 1px 3px 1px rgba(60, 64, 67, 0.15);\n",
              "      fill: #174EA6;\n",
              "    }\n",
              "\n",
              "    [theme=dark] .colab-df-convert {\n",
              "      background-color: #3B4455;\n",
              "      fill: #D2E3FC;\n",
              "    }\n",
              "\n",
              "    [theme=dark] .colab-df-convert:hover {\n",
              "      background-color: #434B5C;\n",
              "      box-shadow: 0px 1px 3px 1px rgba(0, 0, 0, 0.15);\n",
              "      filter: drop-shadow(0px 1px 2px rgba(0, 0, 0, 0.3));\n",
              "      fill: #FFFFFF;\n",
              "    }\n",
              "  </style>\n",
              "\n",
              "      <script>\n",
              "        const buttonEl =\n",
              "          document.querySelector('#df-cde368dc-4b39-41c5-94e0-45a13b111c97 button.colab-df-convert');\n",
              "        buttonEl.style.display =\n",
              "          google.colab.kernel.accessAllowed ? 'block' : 'none';\n",
              "\n",
              "        async function convertToInteractive(key) {\n",
              "          const element = document.querySelector('#df-cde368dc-4b39-41c5-94e0-45a13b111c97');\n",
              "          const dataTable =\n",
              "            await google.colab.kernel.invokeFunction('convertToInteractive',\n",
              "                                                     [key], {});\n",
              "          if (!dataTable) return;\n",
              "\n",
              "          const docLinkHtml = 'Like what you see? Visit the ' +\n",
              "            '<a target=\"_blank\" href=https://colab.research.google.com/notebooks/data_table.ipynb>data table notebook</a>'\n",
              "            + ' to learn more about interactive tables.';\n",
              "          element.innerHTML = '';\n",
              "          dataTable['output_type'] = 'display_data';\n",
              "          await google.colab.output.renderOutput(dataTable, element);\n",
              "          const docLink = document.createElement('div');\n",
              "          docLink.innerHTML = docLinkHtml;\n",
              "          element.appendChild(docLink);\n",
              "        }\n",
              "      </script>\n",
              "    </div>\n",
              "  </div>\n",
              "  "
            ]
          },
          "metadata": {},
          "execution_count": 46
        }
      ]
    },
    {
      "cell_type": "code",
      "source": [
        "kmf=KaplanMeierFitter() # Vacio\n",
        "kmf.fit(durations=Muertes.overall_survival_months,event_observed=Muertes.E)"
      ],
      "metadata": {
        "colab": {
          "base_uri": "https://localhost:8080/"
        },
        "id": "gOCsZXkiJTQx",
        "outputId": "6db504be-3bef-4444-8d6f-53cedb5ee538"
      },
      "execution_count": null,
      "outputs": [
        {
          "output_type": "stream",
          "name": "stderr",
          "text": [
            "/usr/local/lib/python3.7/dist-packages/lifelines/utils/__init__.py:1188: UserWarning: Attempting to convert an unexpected datatype 'object' to float. Suggestion: 1) use `lifelines.utils.datetimes_to_durations` to do conversions or 2) manually convert to floats/booleans.\n",
            "  warnings.warn(warning_text, UserWarning)\n"
          ]
        },
        {
          "output_type": "execute_result",
          "data": {
            "text/plain": [
              "<lifelines.KaplanMeierFitter:\"KM_estimate\", fitted with 396 total observations, 184 right-censored observations>"
            ]
          },
          "metadata": {},
          "execution_count": 47
        }
      ]
    },
    {
      "cell_type": "markdown",
      "source": [
        "**La función de supervivencia de todos los individuos juntos**"
      ],
      "metadata": {
        "id": "JhPvm3WgLQ_J"
      }
    },
    {
      "cell_type": "code",
      "source": [
        "plt.figure(figsize=(8,8))\n",
        "kmf.plot(color=\"darkblue\")\n",
        "plt.title(\"La Funcion de Kaplan-Mier General Estimada\")\n",
        "plt.xlabel(\"Numero de Meses\")\n",
        "plt.ylabel(\"Probabilidad de Supervivencia\")\n",
        "plt.show()"
      ],
      "metadata": {
        "colab": {
          "base_uri": "https://localhost:8080/",
          "height": 513
        },
        "id": "OaqtCWwuK27A",
        "outputId": "6a928c48-838a-4b46-8133-eeb7f3932f17"
      },
      "execution_count": null,
      "outputs": [
        {
          "output_type": "display_data",
          "data": {
            "text/plain": [
              "<Figure size 576x576 with 1 Axes>"
            ],
            "image/png": "[encoded data removed]"
          },
          "metadata": {
            "needs_background": "light"
          }
        }
      ]
    },
    {
      "cell_type": "markdown",
      "source": [
        "* El promedio de meses, en que mueren las pacientes a nivel general son 300 meses en promedio"
      ],
      "metadata": {
        "id": "vBCHY4fcL5mK"
      }
    },
    {
      "cell_type": "code",
      "source": [
        "Muertes.hormone_therapy.value_counts()"
      ],
      "metadata": {
        "colab": {
          "base_uri": "https://localhost:8080/"
        },
        "id": "7b--KsUUMM5V",
        "outputId": "72e6f04a-5029-4b76-f5a7-1b909dc978d3"
      },
      "execution_count": null,
      "outputs": [
        {
          "output_type": "execute_result",
          "data": {
            "text/plain": [
              "0    213\n",
              "1    183\n",
              "Name: hormone_therapy, dtype: int64"
            ]
          },
          "metadata": {},
          "execution_count": 49
        }
      ]
    },
    {
      "cell_type": "code",
      "source": [
        "sns.boxplot(x=\"hormone_therapy\",y=\"overall_survival_months\", data=Muertes)\n",
        "plt.show()"
      ],
      "metadata": {
        "colab": {
          "base_uri": "https://localhost:8080/",
          "height": 280
        },
        "id": "0ykGjDsvPuQe",
        "outputId": "8e49211b-b020-4d27-981e-a5cae67e85c1"
      },
      "execution_count": null,
      "outputs": [
        {
          "output_type": "display_data",
          "data": {
            "text/plain": [
              "<Figure size 432x288 with 1 Axes>"
            ],
            "image/png": "[encoded data removed]"
          },
          "metadata": {
            "needs_background": "light"
          }
        }
      ]
    },
    {
      "cell_type": "markdown",
      "source": [
        "Ajustar el Modelo por cada Grupo, si la paciente tuvo tratamiento hormonal"
      ],
      "metadata": {
        "id": "nn7Qp91hP4Yw"
      }
    },
    {
      "cell_type": "code",
      "source": [
        "control=Muertes[Muertes.hormone_therapy==0]\n",
        "tratamiento=Muertes[Muertes.hormone_therapy==1]\n"
      ],
      "metadata": {
        "id": "B-MwTNnNShsW"
      },
      "execution_count": null,
      "outputs": []
    },
    {
      "cell_type": "code",
      "source": [
        "# Modelos Instanciado, Pero Vacion sin ningun Ajuste de Datos\n",
        "kmf_control=KaplanMeierFitter()\n",
        "Kmf_tratamiento=KaplanMeierFitter()\n",
        "# Ajustar Los datos a los Modelos\n",
        "kmf_control.fit(durations=control.overall_survival_months,event_observed=control.E)\n",
        "Kmf_tratamiento.fit(durations=tratamiento.overall_survival_months,event_observed=tratamiento.E)"
      ],
      "metadata": {
        "colab": {
          "base_uri": "https://localhost:8080/"
        },
        "id": "Rd_deZk-P1DW",
        "outputId": "e01b977b-81bd-452a-9a1f-35212df8c19c"
      },
      "execution_count": null,
      "outputs": [
        {
          "output_type": "stream",
          "name": "stderr",
          "text": [
            "/usr/local/lib/python3.7/dist-packages/lifelines/utils/__init__.py:1188: UserWarning: Attempting to convert an unexpected datatype 'object' to float. Suggestion: 1) use `lifelines.utils.datetimes_to_durations` to do conversions or 2) manually convert to floats/booleans.\n",
            "  warnings.warn(warning_text, UserWarning)\n"
          ]
        },
        {
          "output_type": "execute_result",
          "data": {
            "text/plain": [
              "<lifelines.KaplanMeierFitter:\"KM_estimate\", fitted with 183 total observations, 92 right-censored observations>"
            ]
          },
          "metadata": {},
          "execution_count": 52
        }
      ]
    },
    {
      "cell_type": "code",
      "source": [
        "Mediana_Control=kmf_control.median_survival_time_\n",
        "print(Mediana_Control)"
      ],
      "metadata": {
        "colab": {
          "base_uri": "https://localhost:8080/"
        },
        "id": "MZdan-zWR9w4",
        "outputId": "3f1a0731-7fd8-4983-fd5b-df306e7cb43a"
      },
      "execution_count": null,
      "outputs": [
        {
          "output_type": "stream",
          "name": "stdout",
          "text": [
            "88.93333333\n"
          ]
        }
      ]
    },
    {
      "cell_type": "code",
      "source": [
        "Mediana_tratamiento=Kmf_tratamiento.median_survival_time_\n",
        "print(Mediana_tratamiento)"
      ],
      "metadata": {
        "colab": {
          "base_uri": "https://localhost:8080/"
        },
        "id": "OMAGzRFIZpdc",
        "outputId": "d21aea1e-ed80-4e57-89cc-2f7976dfc3ab"
      },
      "execution_count": null,
      "outputs": [
        {
          "output_type": "stream",
          "name": "stdout",
          "text": [
            "143.6\n"
          ]
        }
      ]
    },
    {
      "cell_type": "code",
      "source": [
        "Intervalos_Confianza_Funcion_Supervivencia_Control=kmf_control.confidence_interval_survival_function_\n",
        "Intervalos_Confianza_Funcion_Supervivencia_Tratamiento=Kmf_tratamiento.confidence_interval_survival_function_"
      ],
      "metadata": {
        "id": "jB97FCQMZxs6"
      },
      "execution_count": null,
      "outputs": []
    },
    {
      "cell_type": "code",
      "source": [
        "Intervalos_Confianza_Funcion_Supervivencia_Tratamiento.head(2)"
      ],
      "metadata": {
        "colab": {
          "base_uri": "https://localhost:8080/",
          "height": 112
        },
        "id": "6PzuODxTZ6Ea",
        "outputId": "bee0769c-9fa5-4d20-fd6b-807d369facb9"
      },
      "execution_count": null,
      "outputs": [
        {
          "output_type": "execute_result",
          "data": {
            "text/plain": [
              "          KM_estimate_lower_0.95  KM_estimate_upper_0.95\n",
              "0.000000                1.000000                1.000000\n",
              "5.066667                0.961848                0.999228"
            ],
            "text/html": [
              "\n",
              "  <div id=\"df-0f235f04-b676-42c8-a4bf-559595b08c5c\">\n",
              "    <div class=\"colab-df-container\">\n",
              "      <div>\n",
              "<style scoped>\n",
              "    .dataframe tbody tr th:only-of-type {\n",
              "        vertical-align: middle;\n",
              "    }\n",
              "\n",
              "    .dataframe tbody tr th {\n",
              "        vertical-align: top;\n",
              "    }\n",
              "\n",
              "    .dataframe thead th {\n",
              "        text-align: right;\n",
              "    }\n",
              "</style>\n",
              "<table border=\"1\" class=\"dataframe\">\n",
              "  <thead>\n",
              "    <tr style=\"text-align: right;\">\n",
              "      <th></th>\n",
              "      <th>KM_estimate_lower_0.95</th>\n",
              "      <th>KM_estimate_upper_0.95</th>\n",
              "    </tr>\n",
              "  </thead>\n",
              "  <tbody>\n",
              "    <tr>\n",
              "      <th>0.000000</th>\n",
              "      <td>1.000000</td>\n",
              "      <td>1.000000</td>\n",
              "    </tr>\n",
              "    <tr>\n",
              "      <th>5.066667</th>\n",
              "      <td>0.961848</td>\n",
              "      <td>0.999228</td>\n",
              "    </tr>\n",
              "  </tbody>\n",
              "</table>\n",
              "</div>\n",
              "      <button class=\"colab-df-convert\" onclick=\"convertToInteractive('df-0f235f04-b676-42c8-a4bf-559595b08c5c')\"\n",
              "              title=\"Convert this dataframe to an interactive table.\"\n",
              "              style=\"display:none;\">\n",
              "        \n",
              "  <svg xmlns=\"http://www.w3.org/2000/svg\" height=\"24px\"viewBox=\"0 0 24 24\"\n",
              "       width=\"24px\">\n",
              "    <path d=\"M0 0h24v24H0V0z\" fill=\"none\"/>\n",
              "    <path d=\"M18.56 5.44l.94 2.06.94-2.06 2.06-.94-2.06-.94-.94-2.06-.94 2.06-2.06.94zm-11 1L8.5 8.5l.94-2.06 2.06-.94-2.06-.94L8.5 2.5l-.94 2.06-2.06.94zm10 10l.94 2.06.94-2.06 2.06-.94-2.06-.94-.94-2.06-.94 2.06-2.06.94z\"/><path d=\"M17.41 7.96l-1.37-1.37c-.4-.4-.92-.59-1.43-.59-.52 0-1.04.2-1.43.59L10.3 9.45l-7.72 7.72c-.78.78-.78 2.05 0 2.83L4 21.41c.39.39.9.59 1.41.59.51 0 1.02-.2 1.41-.59l7.78-7.78 2.81-2.81c.8-.78.8-2.07 0-2.86zM5.41 20L4 18.59l7.72-7.72 1.47 1.35L5.41 20z\"/>\n",
              "  </svg>\n",
              "      </button>\n",
              "      \n",
              "  <style>\n",
              "    .colab-df-container {\n",
              "      display:flex;\n",
              "      flex-wrap:wrap;\n",
              "      gap: 12px;\n",
              "    }\n",
              "\n",
              "    .colab-df-convert {\n",
              "      background-color: #E8F0FE;\n",
              "      border: none;\n",
              "      border-radius: 50%;\n",
              "      cursor: pointer;\n",
              "      display: none;\n",
              "      fill: #1967D2;\n",
              "      height: 32px;\n",
              "      padding: 0 0 0 0;\n",
              "      width: 32px;\n",
              "    }\n",
              "\n",
              "    .colab-df-convert:hover {\n",
              "      background-color: #E2EBFA;\n",
              "      box-shadow: 0px 1px 2px rgba(60, 64, 67, 0.3), 0px 1px 3px 1px rgba(60, 64, 67, 0.15);\n",
              "      fill: #174EA6;\n",
              "    }\n",
              "\n",
              "    [theme=dark] .colab-df-convert {\n",
              "      background-color: #3B4455;\n",
              "      fill: #D2E3FC;\n",
              "    }\n",
              "\n",
              "    [theme=dark] .colab-df-convert:hover {\n",
              "      background-color: #434B5C;\n",
              "      box-shadow: 0px 1px 3px 1px rgba(0, 0, 0, 0.15);\n",
              "      filter: drop-shadow(0px 1px 2px rgba(0, 0, 0, 0.3));\n",
              "      fill: #FFFFFF;\n",
              "    }\n",
              "  </style>\n",
              "\n",
              "      <script>\n",
              "        const buttonEl =\n",
              "          document.querySelector('#df-0f235f04-b676-42c8-a4bf-559595b08c5c button.colab-df-convert');\n",
              "        buttonEl.style.display =\n",
              "          google.colab.kernel.accessAllowed ? 'block' : 'none';\n",
              "\n",
              "        async function convertToInteractive(key) {\n",
              "          const element = document.querySelector('#df-0f235f04-b676-42c8-a4bf-559595b08c5c');\n",
              "          const dataTable =\n",
              "            await google.colab.kernel.invokeFunction('convertToInteractive',\n",
              "                                                     [key], {});\n",
              "          if (!dataTable) return;\n",
              "\n",
              "          const docLinkHtml = 'Like what you see? Visit the ' +\n",
              "            '<a target=\"_blank\" href=https://colab.research.google.com/notebooks/data_table.ipynb>data table notebook</a>'\n",
              "            + ' to learn more about interactive tables.';\n",
              "          element.innerHTML = '';\n",
              "          dataTable['output_type'] = 'display_data';\n",
              "          await google.colab.output.renderOutput(dataTable, element);\n",
              "          const docLink = document.createElement('div');\n",
              "          docLink.innerHTML = docLinkHtml;\n",
              "          element.appendChild(docLink);\n",
              "        }\n",
              "      </script>\n",
              "    </div>\n",
              "  </div>\n",
              "  "
            ]
          },
          "metadata": {},
          "execution_count": 56
        }
      ]
    },
    {
      "cell_type": "code",
      "source": [
        "Intervalos_Confianza_Funcion_Supervivencia_Control.head(3)"
      ],
      "metadata": {
        "colab": {
          "base_uri": "https://localhost:8080/",
          "height": 143
        },
        "id": "bWBBe2-yZ9aa",
        "outputId": "86966d78-3026-4a96-8cfe-3b53635ddf9d"
      },
      "execution_count": null,
      "outputs": [
        {
          "output_type": "execute_result",
          "data": {
            "text/plain": [
              "          KM_estimate_lower_0.95  KM_estimate_upper_0.95\n",
              "0.000000                1.000000                1.000000\n",
              "5.833333                0.967144                0.999337\n",
              "8.066667                0.962981                0.997643"
            ],
            "text/html": [
              "\n",
              "  <div id=\"df-07642d87-f83a-467d-ab0e-9aa42695a5f9\">\n",
              "    <div class=\"colab-df-container\">\n",
              "      <div>\n",
              "<style scoped>\n",
              "    .dataframe tbody tr th:only-of-type {\n",
              "        vertical-align: middle;\n",
              "    }\n",
              "\n",
              "    .dataframe tbody tr th {\n",
              "        vertical-align: top;\n",
              "    }\n",
              "\n",
              "    .dataframe thead th {\n",
              "        text-align: right;\n",
              "    }\n",
              "</style>\n",
              "<table border=\"1\" class=\"dataframe\">\n",
              "  <thead>\n",
              "    <tr style=\"text-align: right;\">\n",
              "      <th></th>\n",
              "      <th>KM_estimate_lower_0.95</th>\n",
              "      <th>KM_estimate_upper_0.95</th>\n",
              "    </tr>\n",
              "  </thead>\n",
              "  <tbody>\n",
              "    <tr>\n",
              "      <th>0.000000</th>\n",
              "      <td>1.000000</td>\n",
              "      <td>1.000000</td>\n",
              "    </tr>\n",
              "    <tr>\n",
              "      <th>5.833333</th>\n",
              "      <td>0.967144</td>\n",
              "      <td>0.999337</td>\n",
              "    </tr>\n",
              "    <tr>\n",
              "      <th>8.066667</th>\n",
              "      <td>0.962981</td>\n",
              "      <td>0.997643</td>\n",
              "    </tr>\n",
              "  </tbody>\n",
              "</table>\n",
              "</div>\n",
              "      <button class=\"colab-df-convert\" onclick=\"convertToInteractive('df-07642d87-f83a-467d-ab0e-9aa42695a5f9')\"\n",
              "              title=\"Convert this dataframe to an interactive table.\"\n",
              "              style=\"display:none;\">\n",
              "        \n",
              "  <svg xmlns=\"http://www.w3.org/2000/svg\" height=\"24px\"viewBox=\"0 0 24 24\"\n",
              "       width=\"24px\">\n",
              "    <path d=\"M0 0h24v24H0V0z\" fill=\"none\"/>\n",
              "    <path d=\"M18.56 5.44l.94 2.06.94-2.06 2.06-.94-2.06-.94-.94-2.06-.94 2.06-2.06.94zm-11 1L8.5 8.5l.94-2.06 2.06-.94-2.06-.94L8.5 2.5l-.94 2.06-2.06.94zm10 10l.94 2.06.94-2.06 2.06-.94-2.06-.94-.94-2.06-.94 2.06-2.06.94z\"/><path d=\"M17.41 7.96l-1.37-1.37c-.4-.4-.92-.59-1.43-.59-.52 0-1.04.2-1.43.59L10.3 9.45l-7.72 7.72c-.78.78-.78 2.05 0 2.83L4 21.41c.39.39.9.59 1.41.59.51 0 1.02-.2 1.41-.59l7.78-7.78 2.81-2.81c.8-.78.8-2.07 0-2.86zM5.41 20L4 18.59l7.72-7.72 1.47 1.35L5.41 20z\"/>\n",
              "  </svg>\n",
              "      </button>\n",
              "      \n",
              "  <style>\n",
              "    .colab-df-container {\n",
              "      display:flex;\n",
              "      flex-wrap:wrap;\n",
              "      gap: 12px;\n",
              "    }\n",
              "\n",
              "    .colab-df-convert {\n",
              "      background-color: #E8F0FE;\n",
              "      border: none;\n",
              "      border-radius: 50%;\n",
              "      cursor: pointer;\n",
              "      display: none;\n",
              "      fill: #1967D2;\n",
              "      height: 32px;\n",
              "      padding: 0 0 0 0;\n",
              "      width: 32px;\n",
              "    }\n",
              "\n",
              "    .colab-df-convert:hover {\n",
              "      background-color: #E2EBFA;\n",
              "      box-shadow: 0px 1px 2px rgba(60, 64, 67, 0.3), 0px 1px 3px 1px rgba(60, 64, 67, 0.15);\n",
              "      fill: #174EA6;\n",
              "    }\n",
              "\n",
              "    [theme=dark] .colab-df-convert {\n",
              "      background-color: #3B4455;\n",
              "      fill: #D2E3FC;\n",
              "    }\n",
              "\n",
              "    [theme=dark] .colab-df-convert:hover {\n",
              "      background-color: #434B5C;\n",
              "      box-shadow: 0px 1px 3px 1px rgba(0, 0, 0, 0.15);\n",
              "      filter: drop-shadow(0px 1px 2px rgba(0, 0, 0, 0.3));\n",
              "      fill: #FFFFFF;\n",
              "    }\n",
              "  </style>\n",
              "\n",
              "      <script>\n",
              "        const buttonEl =\n",
              "          document.querySelector('#df-07642d87-f83a-467d-ab0e-9aa42695a5f9 button.colab-df-convert');\n",
              "        buttonEl.style.display =\n",
              "          google.colab.kernel.accessAllowed ? 'block' : 'none';\n",
              "\n",
              "        async function convertToInteractive(key) {\n",
              "          const element = document.querySelector('#df-07642d87-f83a-467d-ab0e-9aa42695a5f9');\n",
              "          const dataTable =\n",
              "            await google.colab.kernel.invokeFunction('convertToInteractive',\n",
              "                                                     [key], {});\n",
              "          if (!dataTable) return;\n",
              "\n",
              "          const docLinkHtml = 'Like what you see? Visit the ' +\n",
              "            '<a target=\"_blank\" href=https://colab.research.google.com/notebooks/data_table.ipynb>data table notebook</a>'\n",
              "            + ' to learn more about interactive tables.';\n",
              "          element.innerHTML = '';\n",
              "          dataTable['output_type'] = 'display_data';\n",
              "          await google.colab.output.renderOutput(dataTable, element);\n",
              "          const docLink = document.createElement('div');\n",
              "          docLink.innerHTML = docLinkHtml;\n",
              "          element.appendChild(docLink);\n",
              "        }\n",
              "      </script>\n",
              "    </div>\n",
              "  </div>\n",
              "  "
            ]
          },
          "metadata": {},
          "execution_count": 57
        }
      ]
    },
    {
      "cell_type": "code",
      "source": [
        "#Grafica Control"
      ],
      "metadata": {
        "id": "1lJLmVVbaAbR"
      },
      "execution_count": null,
      "outputs": []
    },
    {
      "cell_type": "code",
      "source": [
        "plt.figure(figsize=(8,8))\n",
        "kmf_control.plot(label=\"Mediana= \" + str(Mediana_Control))\n",
        "plt.plot(Intervalos_Confianza_Funcion_Supervivencia_Control[\"KM_estimate_lower_0.95\"],label=\"Inferior al 95%\")\n",
        "plt.plot(Intervalos_Confianza_Funcion_Supervivencia_Control[\"KM_estimate_upper_0.95\"],label=\"Superior al 95%\")\n",
        "plt.title(\"Funcion de Supervivencia de la Poblacion Control\")\n",
        "plt.xlabel(\"Numero de Dias\")\n",
        "plt.ylabel(\"Probabilidad Supervivencia\")\n",
        "plt.show()"
      ],
      "metadata": {
        "colab": {
          "base_uri": "https://localhost:8080/",
          "height": 513
        },
        "id": "jr5-DG2MaGTZ",
        "outputId": "5e0efd10-0b77-4cf9-ea10-52e1ff24f1f2"
      },
      "execution_count": null,
      "outputs": [
        {
          "output_type": "display_data",
          "data": {
            "text/plain": [
              "<Figure size 576x576 with 1 Axes>"
            ],
            "image/png": "[encoded data removed]"
          },
          "metadata": {
            "needs_background": "light"
          }
        }
      ]
    },
    {
      "cell_type": "code",
      "source": [
        "plt.figure(figsize=(8,8))\n",
        "Kmf_tratamiento.plot(label=\"Mediana= \" + str(Mediana_tratamiento))\n",
        "plt.plot(Intervalos_Confianza_Funcion_Supervivencia_Tratamiento[\"KM_estimate_lower_0.95\"],label=\"Inferior al 95%\")\n",
        "plt.plot(Intervalos_Confianza_Funcion_Supervivencia_Tratamiento[\"KM_estimate_upper_0.95\"],label=\"Superior al 95%\")\n",
        "plt.title(\"Funcion de Supervivencia de la Poblacion Control\")\n",
        "plt.xlabel(\"Numero de Meses\")\n",
        "plt.ylabel(\"Probabilidad Supervivencia\")\n",
        "plt.show()"
      ],
      "metadata": {
        "colab": {
          "base_uri": "https://localhost:8080/",
          "height": 513
        },
        "id": "mz-Z46BTaH6p",
        "outputId": "b497189d-eb4c-487d-89f7-d6ec2cd78c05"
      },
      "execution_count": null,
      "outputs": [
        {
          "output_type": "display_data",
          "data": {
            "text/plain": [
              "<Figure size 576x576 with 1 Axes>"
            ],
            "image/png": "[encoded data removed]"
          },
          "metadata": {
            "needs_background": "light"
          }
        }
      ]
    },
    {
      "cell_type": "code",
      "source": [
        "from lifelines.plotting import add_at_risk_counts\n",
        "from lifelines.statistics import logrank_test"
      ],
      "metadata": {
        "id": "vIZYS7pHaRtz"
      },
      "execution_count": null,
      "outputs": []
    },
    {
      "cell_type": "code",
      "source": [
        "fig = plt.figure(figsize=(18,12))\n",
        "ax = plt.subplot(111)\n",
        "f1=kmf_control.fit(durations=control.overall_survival_months,event_observed=control[\"E\"])\n",
        "f1.plot(ax=ax)\n",
        "f2=Kmf_tratamiento.fit(durations=tratamiento.overall_survival_months,event_observed=tratamiento[\"E\"])\n",
        "f2.plot(ax=ax)\n",
        "add_at_risk_counts(f1,f2,rows_to_show=['At risk'])\n",
        "plt.tight_layout()"
      ],
      "metadata": {
        "colab": {
          "base_uri": "https://localhost:8080/",
          "height": 968
        },
        "id": "G7_6r_YbaVDs",
        "outputId": "36e3dfd6-caeb-4c6e-83cb-9f36598490a3"
      },
      "execution_count": null,
      "outputs": [
        {
          "output_type": "stream",
          "name": "stderr",
          "text": [
            "/usr/local/lib/python3.7/dist-packages/lifelines/utils/__init__.py:1188: UserWarning: Attempting to convert an unexpected datatype 'object' to float. Suggestion: 1) use `lifelines.utils.datetimes_to_durations` to do conversions or 2) manually convert to floats/booleans.\n",
            "  warnings.warn(warning_text, UserWarning)\n",
            "/usr/local/lib/python3.7/dist-packages/lifelines/utils/__init__.py:1188: UserWarning: Attempting to convert an unexpected datatype 'object' to float. Suggestion: 1) use `lifelines.utils.datetimes_to_durations` to do conversions or 2) manually convert to floats/booleans.\n",
            "  warnings.warn(warning_text, UserWarning)\n"
          ]
        },
        {
          "output_type": "display_data",
          "data": {
            "text/plain": [
              "<Figure size 1296x864 with 2 Axes>"
            ],
            "image/png": "[encoded data removed]"
          },
          "metadata": {
            "needs_background": "light"
          }
        }
      ]
    },
    {
      "cell_type": "markdown",
      "source": [
        "**Test Estadistico**"
      ],
      "metadata": {
        "id": "J96TXc-va1ar"
      }
    },
    {
      "cell_type": "code",
      "source": [
        "logrank_test(control.overall_survival_months,tratamiento.overall_survival_months,\n",
        "             event_observed_A=control[\"E\"],event_observed_B=tratamiento[\"E\"])"
      ],
      "metadata": {
        "colab": {
          "base_uri": "https://localhost:8080/",
          "height": 206
        },
        "id": "eeqycE6Lam8A",
        "outputId": "8fc1aece-05a4-4988-bf95-3219c7b9808b"
      },
      "execution_count": null,
      "outputs": [
        {
          "output_type": "execute_result",
          "data": {
            "text/plain": [
              "<lifelines.StatisticalResult: logrank_test>\n",
              "               t_0 = -1\n",
              " null_distribution = chi squared\n",
              "degrees_of_freedom = 1\n",
              "         test_name = logrank_test\n",
              "\n",
              "---\n",
              " test_statistic    p  -log2(p)\n",
              "           2.97 0.08      3.56"
            ],
            "text/html": [
              "<div>\n",
              "<style scoped>\n",
              "    .dataframe tbody tr th:only-of-type {\n",
              "        vertical-align: middle;\n",
              "    }\n",
              "\n",
              "    .dataframe tbody tr th {\n",
              "        vertical-align: top;\n",
              "    }\n",
              "\n",
              "    .dataframe thead th {\n",
              "        text-align: right;\n",
              "    }\n",
              "</style>\n",
              "<table border=\"1\" class=\"dataframe\">\n",
              "  <tbody>\n",
              "    <tr>\n",
              "      <th>t_0</th>\n",
              "      <td>-1</td>\n",
              "    </tr>\n",
              "    <tr>\n",
              "      <th>null_distribution</th>\n",
              "      <td>chi squared</td>\n",
              "    </tr>\n",
              "    <tr>\n",
              "      <th>degrees_of_freedom</th>\n",
              "      <td>1</td>\n",
              "    </tr>\n",
              "    <tr>\n",
              "      <th>test_name</th>\n",
              "      <td>logrank_test</td>\n",
              "    </tr>\n",
              "  </tbody>\n",
              "</table>\n",
              "</div><table border=\"1\" class=\"dataframe\">\n",
              "  <thead>\n",
              "    <tr style=\"text-align: right;\">\n",
              "      <th></th>\n",
              "      <th>test_statistic</th>\n",
              "      <th>p</th>\n",
              "      <th>-log2(p)</th>\n",
              "    </tr>\n",
              "  </thead>\n",
              "  <tbody>\n",
              "    <tr>\n",
              "      <th>0</th>\n",
              "      <td>2.97</td>\n",
              "      <td>0.08</td>\n",
              "      <td>3.56</td>\n",
              "    </tr>\n",
              "  </tbody>\n",
              "</table>"
            ],
            "text/latex": "\\begin{tabular}{lrrr}\n\\toprule\n{} &  test\\_statistic &         p &  -log2(p) \\\\\n\\midrule\n0 &        2.973582 &  0.084634 &  3.562614 \\\\\n\\bottomrule\n\\end{tabular}\n"
          },
          "metadata": {},
          "execution_count": 63
        }
      ]
    },
    {
      "cell_type": "markdown",
      "source": [
        "* H0: las probabilidades de supervivencia de los dos Grupos son Iguales\n",
        "* Ha: las probabilidades de supervivencia de los dos Grupos son Diferentes\n",
        "\n",
        "* Si el P valor < 0.05, Se rechaza H0\n",
        "\n",
        "Conclusión las probailidades de supervivencia de los dos grupos de Muestras son diferentes, el número de dias mediano de supervivencia del Grupo control es de 84 meses, mientras que el numero de dias mediano de supervivencia del Grupo con tratamiento hormonal es 168 meses. esto se demuestró estadisticamente\n"
      ],
      "metadata": {
        "id": "oJNSIGYEbCOt"
      }
    },
    {
      "cell_type": "code",
      "source": [
        ""
      ],
      "metadata": {
        "id": "XW2Oc52xa_C5"
      },
      "execution_count": null,
      "outputs": []
    }
  ]
}